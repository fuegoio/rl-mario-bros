{
  "nbformat": 4,
  "nbformat_minor": 0,
  "metadata": {
    "kernelspec": {
      "name": "python3",
      "display_name": "Python 3"
    },
    "language_info": {
      "codemirror_mode": {
        "name": "ipython",
        "version": 3
      },
      "file_extension": ".py",
      "mimetype": "text/x-python",
      "name": "python",
      "nbconvert_exporter": "python",
      "pygments_lexer": "ipython3",
      "version": "3.8.1"
    },
    "colab": {
      "name": "Lab #1.ipynb",
      "provenance": [],
      "collapsed_sections": []
    },
    "accelerator": "GPU"
  },
  "cells": [
    {
      "cell_type": "code",
      "metadata": {
        "id": "AgQTrIamIhnD",
        "colab_type": "code",
        "colab": {}
      },
      "source": [
        "import numpy as np\n",
        "import math\n",
        "import pickle\n",
        "import matplotlib.pyplot as plt\n",
        "from matplotlib import animation\n",
        "\n",
        "from tqdm import tqdm\n",
        "\n",
        "from collections import deque\n",
        "\n",
        "%matplotlib inline"
      ],
      "execution_count": 0,
      "outputs": []
    },
    {
      "cell_type": "code",
      "metadata": {
        "id": "VQ0EzoBxIhnR",
        "colab_type": "code",
        "colab": {}
      },
      "source": [
        "import cv2\n",
        "\n",
        "from gym import make, ObservationWrapper, wrappers, Wrapper\n",
        "from gym.spaces import Box"
      ],
      "execution_count": 0,
      "outputs": []
    },
    {
      "cell_type": "code",
      "metadata": {
        "id": "MXE7X9E-Ihnc",
        "colab_type": "code",
        "colab": {}
      },
      "source": [
        "from nes_py.wrappers import JoypadSpace\n",
        "import gym_super_mario_bros\n",
        "from gym_super_mario_bros.actions import RIGHT_ONLY, COMPLEX_MOVEMENT\n",
        "\n",
        "env = gym_super_mario_bros.make('SuperMarioBros-1-1-v0')\n",
        "env = JoypadSpace(env, RIGHT_ONLY)"
      ],
      "execution_count": 0,
      "outputs": []
    },
    {
      "cell_type": "code",
      "metadata": {
        "id": "22f2A_8JIhnk",
        "colab_type": "code",
        "outputId": "84c5c993-e9c8-477a-acf7-b2b929c4fc17",
        "colab": {
          "base_uri": "https://localhost:8080/",
          "height": 34
        }
      },
      "source": [
        "action_space = env.get_action_meanings()\n",
        "action_space"
      ],
      "execution_count": 4,
      "outputs": [
        {
          "output_type": "execute_result",
          "data": {
            "text/plain": [
              "['NOOP', 'right', 'right A', 'right B', 'right A B']"
            ]
          },
          "metadata": {
            "tags": []
          },
          "execution_count": 4
        }
      ]
    },
    {
      "cell_type": "code",
      "metadata": {
        "id": "V62vwdbcIhnt",
        "colab_type": "code",
        "colab": {}
      },
      "source": [
        "from IPython.display import HTML\n",
        "\n",
        "def display_animation(anim):\n",
        "    plt.close(anim._fig)\n",
        "    return HTML(anim.to_html5_video())"
      ],
      "execution_count": 0,
      "outputs": []
    },
    {
      "cell_type": "code",
      "metadata": {
        "id": "GcJph_2XIhn2",
        "colab_type": "code",
        "colab": {}
      },
      "source": [
        "def display_frames_as_gif(frames):\n",
        "    \"\"\"\n",
        "    Displays a list of frames as a gif, with controls\n",
        "    \"\"\"\n",
        "    #plt.figure(figsize=(frames[0].shape[1] / 72.0, frames[0].shape[0] / 72.0), dpi = 72)\n",
        "    patch = plt.imshow(frames[0])\n",
        "    plt.axis('off')\n",
        "\n",
        "    def animate(i):\n",
        "        patch.set_data(frames[i])\n",
        "\n",
        "    anim = animation.FuncAnimation(plt.gcf(), animate, frames = len(frames), interval=20)\n",
        "    display(display_animation(anim))"
      ],
      "execution_count": 0,
      "outputs": []
    },
    {
      "cell_type": "code",
      "metadata": {
        "id": "VzMdG-IXIhn8",
        "colab_type": "code",
        "outputId": "613f59cc-01b9-43c9-bcea-a7f777576c54",
        "colab": {
          "base_uri": "https://localhost:8080/",
          "height": 612
        }
      },
      "source": [
        "observation = env.reset()\n",
        "for _  in range(150):\n",
        "    env.step(1)\n",
        "\n",
        "fig=plt.figure(figsize=(18, 18), dpi= 80, facecolor='w', edgecolor='k')\n",
        "plt.subplot(1, 2, 1)\n",
        "plt.imshow(observation)\n",
        "\n",
        "frame = cv2.cvtColor(observation, cv2.COLOR_RGB2GRAY)\n",
        "frame = cv2.resize(frame[60:220,40:200], (128, 128), interpolation=cv2.INTER_AREA)\n",
        "plt.subplot(1, 2, 2)\n",
        "plt.imshow(frame)"
      ],
      "execution_count": 7,
      "outputs": [
        {
          "output_type": "stream",
          "text": [
            "/usr/local/lib/python3.6/dist-packages/gym_super_mario_bros/smb_env.py:148: RuntimeWarning: overflow encountered in ubyte_scalars\n",
            "  return (self.ram[0x86] - self.ram[0x071c]) % 256\n"
          ],
          "name": "stderr"
        },
        {
          "output_type": "execute_result",
          "data": {
            "text/plain": [
              "<matplotlib.image.AxesImage at 0x7fc2d185cf60>"
            ]
          },
          "metadata": {
            "tags": []
          },
          "execution_count": 7
        },
        {
          "output_type": "display_data",
          "data": {
            "image/png": "[encoded data removed]",
            "text/plain": [
              "<Figure size 1440x1440 with 2 Axes>"
            ]
          },
          "metadata": {
            "tags": []
          }
        }
      ]
    },
    {
      "cell_type": "code",
      "metadata": {
        "id": "kMlJReuxIhoC",
        "colab_type": "code",
        "colab": {}
      },
      "source": [
        "class FrameDownsample(ObservationWrapper):\n",
        "    def __init__(self, env):\n",
        "        super(FrameDownsample, self).__init__(env)\n",
        "        self._width = 128\n",
        "        self._height = 128\n",
        "        self.observation_space = Box(low=0,\n",
        "                                     high=255,\n",
        "                                     shape=(self._width, self._height, 1),\n",
        "                                     dtype=np.uint8)\n",
        "\n",
        "    def observation(self, observation):\n",
        "        frame = cv2.cvtColor(observation, cv2.COLOR_RGB2GRAY)\n",
        "        frame = cv2.resize(frame[60:220,40:200],\n",
        "                           (self._width, self._height),\n",
        "                           interpolation=cv2.INTER_AREA)\n",
        "        return frame[:, :, None]"
      ],
      "execution_count": 0,
      "outputs": []
    },
    {
      "cell_type": "code",
      "metadata": {
        "id": "DfwGE622IhoJ",
        "colab_type": "code",
        "colab": {}
      },
      "source": [
        "class ImageToPyTorch(ObservationWrapper):\n",
        "    def __init__(self, env):\n",
        "        super(ImageToPyTorch, self).__init__(env)\n",
        "        obs_shape = self.observation_space.shape\n",
        "        self.observation_space = Box(low=0.0,\n",
        "                                     high=1.0,\n",
        "                                     shape=(obs_shape[::-1]),\n",
        "                                     dtype=np.float32)\n",
        "\n",
        "    def observation(self, observation):\n",
        "        return np.moveaxis(observation, 2, 0)"
      ],
      "execution_count": 0,
      "outputs": []
    },
    {
      "cell_type": "code",
      "metadata": {
        "id": "zvu-SVp7IhoQ",
        "colab_type": "code",
        "colab": {}
      },
      "source": [
        "class CustomReward(Wrapper):\n",
        "    def __init__(self, env):\n",
        "        super(CustomReward, self).__init__(env)\n",
        "        self._current_score = 0\n",
        "        self._x_pos = 0\n",
        "        self._y_pos = 0\n",
        "\n",
        "    def step(self, action):\n",
        "        state, reward, done, info = self.env.step(action)\n",
        "        \n",
        "        difference_score = info['score'] - self._current_score\n",
        "        difference_x = info['x_pos'] - self._x_pos\n",
        "        difference_y = info['y_pos'] - self._y_pos\n",
        "        \n",
        "        if difference_x > 30 or difference_x < 0:\n",
        "            difference_x = 0\n",
        "            \n",
        "        if difference_y < 0:\n",
        "            difference_y = 0\n",
        "        if difference_score < 0:\n",
        "            difference_score = 0\n",
        "        \n",
        "#         print(f\"Score : {difference_score} | X : {difference_x} | Y : {difference_y}\")\n",
        "        reward = difference_score / 20.0 + difference_x # + difference_y\n",
        "        \n",
        "        self._current_score = info['score']\n",
        "        self._x_pos = info['x_pos']\n",
        "        self._y_pos = info['y_pos']\n",
        "        \n",
        "        if done:\n",
        "            if info['flag_get']:\n",
        "                reward += 50.0\n",
        "            else:\n",
        "                reward -= 300.0\n",
        "        \n",
        "        return state, reward, done, info"
      ],
      "execution_count": 0,
      "outputs": []
    },
    {
      "cell_type": "code",
      "metadata": {
        "id": "UAgK3Cx-IhoW",
        "colab_type": "code",
        "colab": {}
      },
      "source": [
        "class FrameBuffer(ObservationWrapper):\n",
        "    def __init__(self, env, num_steps, dtype=np.float32):\n",
        "        super(FrameBuffer, self).__init__(env)\n",
        "        obs_space = env.observation_space\n",
        "        self._dtype = dtype\n",
        "        self.observation_space = Box(obs_space.low.repeat(num_steps, axis=0),\n",
        "                                     obs_space.high.repeat(num_steps, axis=0),\n",
        "                                     dtype=self._dtype)\n",
        "\n",
        "    def reset(self):\n",
        "        self.buffer = np.zeros_like(self.observation_space.low,\n",
        "                                    dtype=self._dtype)\n",
        "        return self.observation(self.env.reset())\n",
        "\n",
        "    def observation(self, observation):\n",
        "        self.buffer[:-1] = self.buffer[1:]\n",
        "        self.buffer[-1] = observation\n",
        "        return self.buffer"
      ],
      "execution_count": 0,
      "outputs": []
    },
    {
      "cell_type": "code",
      "metadata": {
        "id": "SxYZArlYIhoe",
        "colab_type": "code",
        "colab": {}
      },
      "source": [
        "class MaxAndSkipEnv(Wrapper):\n",
        "    def __init__(self, env=None, skip=4):\n",
        "        super(MaxAndSkipEnv, self).__init__(env)\n",
        "        self._obs_buffer = deque(maxlen=2)\n",
        "        self._skip = skip\n",
        "\n",
        "    def step(self, action):\n",
        "        total_reward = 0.0\n",
        "        done = None\n",
        "        for _ in range(self._skip):\n",
        "            obs, reward, done, info = self.env.step(action)\n",
        "            self._obs_buffer.append(obs)\n",
        "            total_reward += reward\n",
        "            if done:\n",
        "                break\n",
        "        max_frame = np.max(np.stack(self._obs_buffer), axis=0)\n",
        "        return max_frame, total_reward, done, info\n",
        "\n",
        "    def reset(self):\n",
        "        self._obs_buffer.clear()\n",
        "        obs = self.env.reset()\n",
        "        self._obs_buffer.append(obs)\n",
        "        return obs"
      ],
      "execution_count": 0,
      "outputs": []
    },
    {
      "cell_type": "code",
      "metadata": {
        "id": "giw3k-UVIhok",
        "colab_type": "code",
        "colab": {}
      },
      "source": [
        "class NormalizeFloats(ObservationWrapper):\n",
        "    def observation(self, obs):\n",
        "        return np.array(obs).astype(np.float32) / 255.0"
      ],
      "execution_count": 0,
      "outputs": []
    },
    {
      "cell_type": "code",
      "metadata": {
        "id": "2MKD4qb7Ihor",
        "colab_type": "code",
        "outputId": "d6c77a22-4f51-4c14-e81c-7866010085ed",
        "colab": {
          "base_uri": "https://localhost:8080/",
          "height": 52
        }
      },
      "source": [
        "env = MaxAndSkipEnv(env)\n",
        "env = FrameDownsample(env)\n",
        "env = ImageToPyTorch(env)\n",
        "env = FrameBuffer(env, 4)\n",
        "env = NormalizeFloats(env)\n",
        "env = CustomReward(env)"
      ],
      "execution_count": 14,
      "outputs": [
        {
          "output_type": "stream",
          "text": [
            "/usr/local/lib/python3.6/dist-packages/gym/logger.py:30: UserWarning: \u001b[33mWARN: Box bound precision lowered by casting to float32\u001b[0m\n",
            "  warnings.warn(colorize('%s: %s'%('WARN', msg % args), 'yellow'))\n"
          ],
          "name": "stderr"
        }
      ]
    },
    {
      "cell_type": "code",
      "metadata": {
        "id": "_aY2mZbZIhow",
        "colab_type": "code",
        "colab": {}
      },
      "source": [
        "import torch\n",
        "import torch.nn as nn\n",
        "import torch.nn.functional as F\n",
        "\n",
        "class QNetworkCNN(nn.Module):\n",
        "    \"\"\"Actor (Policy) Model.\"\"\"\n",
        "\n",
        "    def __init__(self, input_shape, num_actions, seed=42):\n",
        "        \"\"\"Initialize parameters and build model.\n",
        "        Params\n",
        "        ======\n",
        "            state_size (int): Dimension of each state\n",
        "            action_size (int): Dimension of each action\n",
        "            seed (int): Random seed\n",
        "        \"\"\"\n",
        "        super(QNetworkCNN, self).__init__()\n",
        "        \n",
        "        self._input_shape = input_shape\n",
        "        self._num_actions = num_actions\n",
        "        \n",
        "        self.seed = torch.manual_seed(seed)\n",
        "        \n",
        "        self.features = nn.Sequential(\n",
        "            nn.Conv2d(input_shape[0], 32, kernel_size=3, stride=1),\n",
        "            nn.BatchNorm2d(32),\n",
        "            nn.ReLU(),\n",
        "            nn.MaxPool2d(2),\n",
        "            nn.Conv2d(32, 64, kernel_size=3, stride=1),\n",
        "            nn.BatchNorm2d(64),\n",
        "            nn.ReLU(),\n",
        "            nn.MaxPool2d(2),\n",
        "        )\n",
        "\n",
        "        self.fc = nn.Linear(self.feature_size, num_actions)\n",
        "\n",
        "    def forward(self, x):\n",
        "        x = self.features(x).view(x.size()[0], -1)\n",
        "        return self.fc(x)\n",
        "    \n",
        "    @property\n",
        "    def feature_size(self):\n",
        "        x = self.features(torch.zeros(1, *self._input_shape))\n",
        "        return x.view(1, -1).size(1)"
      ],
      "execution_count": 0,
      "outputs": []
    },
    {
      "cell_type": "code",
      "metadata": {
        "id": "YceZVvoiIho0",
        "colab_type": "code",
        "colab": {}
      },
      "source": [
        "import torch\n",
        "import numpy as np\n",
        "\n",
        "device = torch.device(\"cuda:0\" if torch.cuda.is_available() else \"cpu\")\n",
        "\n",
        "class ReplayBuffer:\n",
        "    \"\"\"Fixed-size buffer to store experience tuples.\"\"\"\n",
        "\n",
        "    def __init__(self, state_size, action_size, buffer_size, batch_size, priority=False):\n",
        "        \"\"\"Initialize a ReplayBuffer object.\n",
        "        Params\n",
        "        ======\n",
        "            action_size (int): dimension of each action\n",
        "            buffer_size (int): maximum size of buffer (chosen as multiple of num agents)\n",
        "            batch_size (int): size of each training batch\n",
        "            seed (int): random seed\n",
        "        \"\"\"\n",
        "        self.states = torch.zeros((buffer_size,)+state_size).to(device)\n",
        "        self.next_states = torch.zeros((buffer_size,)+state_size).to(device)\n",
        "        self.actions = torch.zeros(buffer_size,1, dtype=torch.long).to(device)\n",
        "        self.rewards = torch.zeros(buffer_size, 1, dtype=torch.float).to(device)\n",
        "        self.dones = torch.zeros(buffer_size, 1, dtype=torch.float).to(device)\n",
        "        self.e = np.zeros((buffer_size, 1), dtype=np.float)\n",
        "        \n",
        "        self.priority = priority\n",
        "\n",
        "        self.ptr = 0\n",
        "        self.n = 0\n",
        "        self.buffer_size = buffer_size\n",
        "        self.batch_size = batch_size\n",
        "    \n",
        "    def add(self, state, action, reward, next_state, done):\n",
        "        \"\"\"Add a new experience to memory.\"\"\"\n",
        "        self.states[self.ptr] = torch.from_numpy(state).to(device)\n",
        "        self.next_states[self.ptr] = torch.from_numpy(next_state).to(device)\n",
        "        self.actions[self.ptr] = action\n",
        "        self.rewards[self.ptr] = reward\n",
        "        self.dones[self.ptr] = done\n",
        "        \n",
        "        self.ptr += 1\n",
        "        if self.ptr >= self.buffer_size:\n",
        "            self.ptr = 0\n",
        "            self.n = self.buffer_size\n",
        "\n",
        "    def sample(self, get_all=False):\n",
        "        \"\"\"Randomly sample a batch of experiences from memory.\"\"\"\n",
        "        n = len(self)\n",
        "        if get_all:\n",
        "            return self.states[:n], self.actions[:n], self.rewards[:n], self.next_states[:n], self.dones[:n]\n",
        "        # else:\n",
        "        if self.priority and self.e.min() > 0:\n",
        "            probabilities = self.e.squeeze(1)[:n]\n",
        "            probabilities = probabilities / probabilities.sum()\n",
        "            idx = np.random.choice(n, self.batch_size, replace=False, p=probabilities)\n",
        "        else:\n",
        "            idx = np.random.choice(n, self.batch_size, replace=False)\n",
        "        \n",
        "        states = self.states[idx]\n",
        "        next_states = self.next_states[idx]\n",
        "        actions = self.actions[idx]\n",
        "        rewards = self.rewards[idx]\n",
        "        dones = self.dones[idx]\n",
        "        \n",
        "        return (states, actions, rewards, next_states, dones), idx\n",
        "      \n",
        "    def update_error(self, e, idx=None):\n",
        "        e = torch.abs(e.detach())\n",
        "        if idx is not None:\n",
        "            self.e[idx] = e.cpu().numpy()\n",
        "        else:\n",
        "            self.e[:len(self)] = e.cpu().numpy()\n",
        "        \n",
        "    def __len__(self):\n",
        "        if self.n == 0:\n",
        "            return self.ptr\n",
        "        else:\n",
        "            return self.n"
      ],
      "execution_count": 0,
      "outputs": []
    },
    {
      "cell_type": "code",
      "metadata": {
        "id": "utkLvE5fIho7",
        "colab_type": "code",
        "colab": {}
      },
      "source": [
        "import numpy as np\n",
        "import random\n",
        "from collections import namedtuple, deque\n",
        "import itertools\n",
        "\n",
        "import torch\n",
        "import torch.nn.functional as F\n",
        "import torch.optim as optim\n",
        "\n",
        "BUFFER_SIZE = int(3e3)  # replay buffer size\n",
        "BATCH_SIZE = 128        # minibatch size\n",
        "GAMMA = 0.9             # discount factor\n",
        "LR = 1e-3               # learning rate\n",
        "\n",
        "device = torch.device(\"cuda:0\" if torch.cuda.is_available() else \"cpu\")\n",
        "            \n",
        "\n",
        "class DQNAgent():\n",
        "    \"\"\"Interacts with and learns from the environment.\"\"\"\n",
        "\n",
        "    def __init__(self, model, state_size, action_size, seed=42, priority=False):\n",
        "        \"\"\"Initialize an Agent object.\n",
        "        \n",
        "        Params\n",
        "        ======\n",
        "            state_size (int): dimension of each state\n",
        "            action_size (int): dimension of each action\n",
        "            seed (int): random seed\n",
        "        \"\"\"\n",
        "        self.state_size = state_size\n",
        "        self.action_size = action_size\n",
        "        self.seed = random.seed(seed)\n",
        "\n",
        "        # Q-Network\n",
        "        self.qnetwork_local = model(state_size, action_size, seed).to(device)\n",
        "        # self.qnetwork_local.load_state_dict(torch.load('model.dat'))\n",
        "        self.optimizer = optim.Adam(self.qnetwork_local.parameters(), lr=LR)\n",
        "\n",
        "        # Replay memory\n",
        "        self.memory = ReplayBuffer(state_size, (action_size,), BUFFER_SIZE, BATCH_SIZE, priority)\n",
        "        \n",
        "    def step(self, state, action, reward, next_state, done):\n",
        "        # Save experience in replay memory\n",
        "        self.memory.add(state, action, reward, next_state, done)\n",
        "\n",
        "        # If enough samples are available in memory, get random subset and learn\n",
        "        if len(self.memory) > BATCH_SIZE:\n",
        "            experiences, idx = self.memory.sample()\n",
        "            e, loss = self.learn(experiences)\n",
        "            self.memory.update_error(e, idx)\n",
        "            return loss\n",
        "\n",
        "    def act(self, state, eps=0.):\n",
        "        \"\"\"Returns actions for given state as per current policy.\n",
        "        \n",
        "        Params\n",
        "        ======\n",
        "            state (array_like): current state\n",
        "            eps (float): epsilon, for epsilon-greedy action selection\n",
        "        \"\"\"\n",
        "        state = torch.from_numpy(state).float().unsqueeze(0).to(device)\n",
        "        self.qnetwork_local.eval()\n",
        "        with torch.no_grad():\n",
        "            action_values = self.qnetwork_local(state)\n",
        "        self.qnetwork_local.train()\n",
        "\n",
        "        # Epsilon-greedy action selection\n",
        "        if random.random() > eps:\n",
        "            return np.argmax(action_values.cpu().data.numpy())\n",
        "        else:\n",
        "            return random.choice(np.arange(self.action_size))\n",
        "          \n",
        "    def update_error(self):\n",
        "        states, actions, rewards, next_states, dones = self.memory.sample(get_all=True)\n",
        "        with torch.no_grad():\n",
        "            maxQ = self.qnetwork_local(next_states).max(-1, keepdim=True)[0]\n",
        "            target = rewards+GAMMA*maxQ*(1-dones)\n",
        "            old_val = self.qnetwork_local(states).gather(-1, actions)\n",
        "            e = old_val - target\n",
        "            self.memory.update_error(e)\n",
        "\n",
        "    def learn(self, experiences):\n",
        "        \"\"\"Update value parameters using given batch of experience tuples.\n",
        "        Params\n",
        "        ======\n",
        "            experiences (Tuple[torch.Variable]): tuple of (s, a, r, s', done) tuples \n",
        "            gamma (float): discount factor\n",
        "        \"\"\"\n",
        "        states, actions, rewards, next_states, dones = experiences\n",
        "\n",
        "        ## compute and minimize the loss\n",
        "        self.optimizer.zero_grad()\n",
        "        with torch.no_grad():\n",
        "            maxQ = self.qnetwork_local(next_states).max(-1, keepdim=True)[0]\n",
        "            target = rewards+GAMMA*maxQ*(1-dones)\n",
        "        old_val = self.qnetwork_local(states).gather(-1, actions)\n",
        "        \n",
        "        loss = F.mse_loss(old_val, target)\n",
        "        loss.backward()\n",
        "        self.optimizer.step()\n",
        "        \n",
        "        return old_val - target, loss.cpu().data.numpy()"
      ],
      "execution_count": 0,
      "outputs": []
    },
    {
      "cell_type": "code",
      "metadata": {
        "id": "zwg8fjNaIhpA",
        "colab_type": "code",
        "colab": {}
      },
      "source": [
        "FRAME_SHAPE = (128, 128)\n",
        "MAX_FRAMES = 4\n",
        "    \n",
        "action_size = len(action_space)\n",
        "state_size = (MAX_FRAMES,) + FRAME_SHAPE\n",
        "agent = DQNAgent(QNetworkCNN, state_size, action_size, priority=True)"
      ],
      "execution_count": 0,
      "outputs": []
    },
    {
      "cell_type": "code",
      "metadata": {
        "id": "_fbbWLZWIhpO",
        "colab_type": "code",
        "outputId": "92b3a547-359b-4000-eb1c-caf8c21cb6df",
        "colab": {
          "base_uri": "https://localhost:8080/",
          "height": 69
        }
      },
      "source": [
        "episode = 100\n",
        "tmax = 10000\n",
        "\n",
        "EPSILON_START = 1.0\n",
        "EPSILON_FINAL = 0.05\n",
        "EPSILON_DECAY = 50\n",
        "\n",
        "epsilon = EPSILON_START\n",
        "\n",
        "# keep track of progress\n",
        "sum_rewards = []\n",
        "\n",
        "for e in range(episode):\n",
        "    obs = env.reset()\n",
        "    prev_obs = None\n",
        "    sum_reward = 0\n",
        "    rewards = []\n",
        "    losses = []\n",
        "    \n",
        "    for t in range(tmax):\n",
        "        actions = agent.act(obs, epsilon)\n",
        "        obs, reward, done, info = env.step(actions)\n",
        "        loss = agent.step(obs, int(actions), int(reward), obs, int(done))\n",
        "        \n",
        "        sum_reward += reward\n",
        "        rewards.append(reward)\n",
        "        \n",
        "        if loss is not None:\n",
        "            losses.append(loss)\n",
        "        if done or reward < -10:\n",
        "            break\n",
        "    \n",
        "    agent.update_error()\n",
        "    sum_rewards.append(sum_reward)\n",
        "    epsilon = EPSILON_FINAL + (EPSILON_START - EPSILON_FINAL) * math.exp(-1 * ((e + 1) / EPSILON_DECAY))\n",
        "    \n",
        "    print('\\rEpisode {}\\tCurrent Score: {:.2f}\\tCurrent Epsilon: {:.2f}\\tMean loss: {:.2f}      '.format(e, sum_rewards[-1], epsilon, np.mean(losses)), end=\"\")\n",
        "    # display some progress every 20 iterations\n",
        "    if (e+1) % 20 == 0:\n",
        "        print(\" | Episode: {0:d}, average score: {1:f}\".format(e+1,np.mean(sum_rewards[-20:])))"
      ],
      "execution_count": 0,
      "outputs": [
        {
          "output_type": "stream",
          "text": [
            "/usr/local/lib/python3.6/dist-packages/gym_super_mario_bros/smb_env.py:148: RuntimeWarning: overflow encountered in ubyte_scalars\n",
            "  return (self.ram[0x86] - self.ram[0x071c]) % 256\n"
          ],
          "name": "stderr"
        },
        {
          "output_type": "stream",
          "text": [
            "Episode 2\tCurrent Score: -38.00\tCurrent Epsilon: 0.94\tMean loss: 263.01      "
          ],
          "name": "stdout"
        }
      ]
    },
    {
      "cell_type": "code",
      "metadata": {
        "id": "xRkgXehpIhpU",
        "colab_type": "code",
        "colab": {}
      },
      "source": [
        "plt.plot(sum_rewards)\n",
        "plt.show()"
      ],
      "execution_count": 0,
      "outputs": []
    },
    {
      "cell_type": "code",
      "metadata": {
        "id": "MIzZ_8V8IhpY",
        "colab_type": "code",
        "colab": {}
      },
      "source": [
        "obs = env.reset()\n",
        "prev_obs = None\n",
        "sum_reward = 0\n",
        "\n",
        "rs = []\n",
        "xs = []\n",
        "ys = []\n",
        "\n",
        "frames = np.zeros((1, 240, 256, 3), dtype=np.uint8)\n",
        "\n",
        "for t in tqdm(range(500)):\n",
        "    frames = np.concatenate((frames, np.array([env.unwrapped.render(mode='rgb_array')])))\n",
        "    actions = agent.act(obs, 0.2)\n",
        "    obs, reward, done, info = env.step(actions)\n",
        "\n",
        "    sum_reward += reward\n",
        "    rs.append(reward)\n",
        "    xs.append(info['x_pos'])\n",
        "    ys.append(info['y_pos'])\n",
        "    if done:\n",
        "        break\n",
        "    \n",
        "print('Sum of rewards is ', sum(rs))\n",
        "plt.plot(rs)\n",
        "plt.show()\n",
        "\n",
        "plt.plot(xs)\n",
        "plt.show()\n",
        "\n",
        "display_frames_as_gif(frames)"
      ],
      "execution_count": 0,
      "outputs": []
    },
    {
      "cell_type": "code",
      "metadata": {
        "id": "5C2sGSMBIhpe",
        "colab_type": "code",
        "colab": {}
      },
      "source": [
        "torch.save(agent.qnetwork_local.state_dict(), 'model.dat')"
      ],
      "execution_count": 0,
      "outputs": []
    },
    {
      "cell_type": "code",
      "metadata": {
        "id": "HZu19V5iIhpj",
        "colab_type": "code",
        "colab": {}
      },
      "source": [
        ""
      ],
      "execution_count": 0,
      "outputs": []
    }
  ]
}