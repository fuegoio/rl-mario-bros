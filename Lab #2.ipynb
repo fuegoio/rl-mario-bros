{
 "cells": [
  {
   "cell_type": "code",
   "execution_count": 1,
   "metadata": {
    "colab": {
     "base_uri": "https://localhost:8080/",
     "height": 80
    },
    "colab_type": "code",
    "id": "0pTbZ92zcstR",
    "outputId": "859d8346-15f3-4f00-a073-320264fbff4d"
   },
   "outputs": [
    {
     "ename": "ModuleNotFoundError",
     "evalue": "No module named 'keras'",
     "output_type": "error",
     "traceback": [
      "\u001b[0;31m---------------------------------------------------------------------------\u001b[0m",
      "\u001b[0;31mModuleNotFoundError\u001b[0m                       Traceback (most recent call last)",
      "\u001b[0;32m<ipython-input-1-01fbaf440d88>\u001b[0m in \u001b[0;36m<module>\u001b[0;34m\u001b[0m\n\u001b[1;32m      9\u001b[0m \u001b[0;32mimport\u001b[0m \u001b[0mjson\u001b[0m\u001b[0;34m\u001b[0m\u001b[0;34m\u001b[0m\u001b[0m\n\u001b[1;32m     10\u001b[0m \u001b[0;32mfrom\u001b[0m \u001b[0mIPython\u001b[0m\u001b[0;34m.\u001b[0m\u001b[0mdisplay\u001b[0m \u001b[0;32mimport\u001b[0m \u001b[0mHTML\u001b[0m\u001b[0;34m\u001b[0m\u001b[0;34m\u001b[0m\u001b[0m\n\u001b[0;32m---> 11\u001b[0;31m \u001b[0;32mfrom\u001b[0m \u001b[0mkeras\u001b[0m\u001b[0;34m.\u001b[0m\u001b[0mmodels\u001b[0m \u001b[0;32mimport\u001b[0m \u001b[0mSequential\u001b[0m\u001b[0;34m,\u001b[0m\u001b[0mmodel_from_json\u001b[0m\u001b[0;34m\u001b[0m\u001b[0;34m\u001b[0m\u001b[0m\n\u001b[0m\u001b[1;32m     12\u001b[0m \u001b[0;32mfrom\u001b[0m \u001b[0mkeras\u001b[0m\u001b[0;34m.\u001b[0m\u001b[0mlayers\u001b[0m\u001b[0;34m.\u001b[0m\u001b[0mcore\u001b[0m \u001b[0;32mimport\u001b[0m \u001b[0mDense\u001b[0m\u001b[0;34m,\u001b[0m \u001b[0mFlatten\u001b[0m\u001b[0;34m\u001b[0m\u001b[0;34m\u001b[0m\u001b[0m\n\u001b[1;32m     13\u001b[0m \u001b[0;32mfrom\u001b[0m \u001b[0mkeras\u001b[0m\u001b[0;34m.\u001b[0m\u001b[0moptimizers\u001b[0m \u001b[0;32mimport\u001b[0m \u001b[0msgd\u001b[0m\u001b[0;34m\u001b[0m\u001b[0;34m\u001b[0m\u001b[0m\n",
      "\u001b[0;31mModuleNotFoundError\u001b[0m: No module named 'keras'"
     ]
    }
   ],
   "source": [
    "import matplotlib.pyplot as plt\n",
    "from nes_py.wrappers import JoypadSpace\n",
    "from gym import wrappers\n",
    "import gym_super_mario_bros\n",
    "from IPython import display\n",
    "from gym_super_mario_bros.actions import RIGHT_ONLY, SIMPLE_MOVEMENT, COMPLEX_MOVEMENT\n",
    "import io\n",
    "import base64\n",
    "import json\n",
    "from IPython.display import HTML\n",
    "from keras.models import Sequential,model_from_json\n",
    "from keras.layers.core import Dense, Flatten\n",
    "from keras.optimizers import sgd\n",
    "from keras.layers import Conv2D, MaxPooling2D, Activation, AveragePooling2D,Reshape,BatchNormalization\n",
    "import numpy as np\n",
    "\n",
    "env = gym_super_mario_bros.make('SuperMarioBros-v0')\n",
    "env = wrappers.Monitor(env, \"./gym-results\", force=True)"
   ]
  },
  {
   "cell_type": "markdown",
   "metadata": {
    "colab_type": "text",
    "id": "sc_4wHEsfqoC"
   },
   "source": [
    "# Train Function"
   ]
  },
  {
   "cell_type": "code",
   "execution_count": null,
   "metadata": {
    "colab": {},
    "colab_type": "code",
    "id": "jLW3wkwbfpUJ"
   },
   "outputs": [],
   "source": [
    "import cv2\n",
    "from tqdm import tqdm_notebook\n",
    "\n",
    "def train(agent,env,epoch,prefix='', verbose=True, max_step=1000, decay_rate=0.99999):\n",
    "    # Number of won games\n",
    "    score = 0\n",
    "    loss = 0\n",
    "    best_x = 0\n",
    "    best_run_index = -1\n",
    "    epsilon_start = agent.epsilon\n",
    "\n",
    "    hist = {}\n",
    "    hist['loss'] = []\n",
    "    hist['win-lose'] = []\n",
    "    hist['score'] = []\n",
    "    hist['info'] = []\n",
    "    hist['x_pos'] = []\n",
    "\n",
    "\n",
    "    for e in tqdm_notebook(range(1, epoch + 1)):\n",
    "        if e == epoch:\n",
    "            print('Monitoring ...')\n",
    "            env = wrappers.Monitor(env, \"./gym-results/\", force=True)\n",
    "\n",
    "        agent.set_epsilon(epsilon_start*(epoch - e)/epoch)\n",
    "        # At each epoch, we restart to a fresh game and get the initial state\n",
    "\n",
    "        state = env.reset()\n",
    "        cropped_state = state[30:230,50:250,:]\n",
    "        cropped_state = cv2.cvtColor(cropped_state, cv2.COLOR_BGR2GRAY) #shape (240, 256)\n",
    "        cropped_state = cv2.resize(cropped_state, (128, 128), interpolation = cv2.INTER_AREA)\n",
    "        cropped_state = np.moveaxis(np.array([cropped_state]), 0, 2) # shape (128, 128, 1)\n",
    "        # This assumes that the games will terminate\n",
    "        game_over = False\n",
    "\n",
    "        win = 0\n",
    "        lose = 0\n",
    "\n",
    "        \n",
    "        i = 0\n",
    "        dist = []\n",
    "        while (not game_over and i < max_step):\n",
    "            # The agent performs an action\n",
    "            agent.set_epsilon(agent.epsilon * decay_rate)\n",
    "            action = agent.act(cropped_state)\n",
    "\n",
    "            # Apply an action to the environment, get the next state, the reward\n",
    "            # and if the games end\n",
    "            prev_state = cropped_state\n",
    "            state, reward, game_over, info = env.step(action)\n",
    "            cropped_state = state[30:230,50:250,:]\n",
    "            cropped_state = cv2.cvtColor(cropped_state, cv2.COLOR_BGR2GRAY)\n",
    "            cropped_state = cv2.resize(cropped_state, (128, 128), interpolation = cv2.INTER_AREA)\n",
    "            cropped_state = np.moveaxis(np.array([cropped_state]), 0, 2)\n",
    "\n",
    "            # Update the counters\n",
    "            if reward > 0:\n",
    "                win = win + reward\n",
    "            if reward < 0:\n",
    "                lose = lose -reward\n",
    "\n",
    "            # Apply the reinforcement strategy\n",
    "            if i % agent.reinforce_rate == 0:\n",
    "                loss = agent.reinforce(prev_state, cropped_state, action, reward, game_over)\n",
    "\n",
    "            dist.append(info['x_pos'])\n",
    "            \n",
    "\n",
    "            if game_over: break\n",
    "\n",
    "            i += 1\n",
    "\n",
    "        env.done = True\n",
    "\n",
    "\n",
    "        # Save if mario is far\n",
    "        if info['x_pos'] > best_x:\n",
    "            agent.save(name_weights=prefix+'model.h5',name_model=prefix+'model.json')\n",
    "            best_x = info['x_pos']\n",
    "            best_run_index = e\n",
    "            \n",
    "\n",
    "        # Update stats\n",
    "        score += win-lose\n",
    "\n",
    "        if verbose:\n",
    "            print(\"Epoch {:03d}/{:03d} | Loss {:.4f} | Win/lose count {}/{} ({}) | Epsilon: {}\"\n",
    "                  .format(e, epoch, loss, round(win), round(lose), round(win-lose), round(agent.epsilon*1000)/1000))\n",
    "\n",
    "        hist['x_pos'].append(dist)\n",
    "        hist['loss'].append(loss)\n",
    "        hist['info'].append(info)\n",
    "        hist['win-lose'].append(win - lose)\n",
    "        hist['score'].append(score)\n",
    "    \n",
    "    print('Best run index: ', best_run_index)\n",
    "    return hist"
   ]
  },
  {
   "cell_type": "code",
   "execution_count": null,
   "metadata": {
    "colab": {},
    "colab_type": "code",
    "id": "tVhBTJxthtHN"
   },
   "outputs": [],
   "source": [
    "from gym import Wrapper\n",
    "\n",
    "class CustomReward(Wrapper):\n",
    "    def __init__(self, env):\n",
    "        super(CustomReward, self).__init__(env)\n",
    "        self._current_score = 0\n",
    "        self._x_pos = 0\n",
    "        self._y_pos = 0\n",
    "\n",
    "    def step(self, action):\n",
    "        state, reward, done, info = self.env.step(action)\n",
    "        \n",
    "        difference_score = info['score'] - self._current_score\n",
    "        difference_x = info['x_pos'] - self._x_pos\n",
    "        difference_y = info['y_pos'] - self._y_pos\n",
    "        \n",
    "        if difference_x < -20:\n",
    "            difference_x = 0\n",
    "        elif difference_x < 1:\n",
    "            difference_x = -7\n",
    "\n",
    "        if difference_y < 0:\n",
    "            difference_y = 0 \n",
    "        \n",
    "#         print(f\"Score : {difference_score} | X : {difference_x} | Y : {difference_y}\")\n",
    "        reward = difference_score / 5 + difference_x / 5 + difference_y\n",
    "        \n",
    "        self._current_score = info['score']\n",
    "        self._x_pos = info['x_pos']\n",
    "        self._y_pos = info['y_pos']\n",
    "        \n",
    "        if done:\n",
    "            if info['flag_get']:\n",
    "                reward += 500.0\n",
    "            else:\n",
    "                reward -= 500.0\n",
    "        \n",
    "        return state, reward, done, info"
   ]
  },
  {
   "cell_type": "code",
   "execution_count": null,
   "metadata": {
    "colab": {},
    "colab_type": "code",
    "id": "cu5SCXeunRPf"
   },
   "outputs": [],
   "source": [
    "from collections import deque\n",
    "\n",
    "class MaxAndSkipEnv(Wrapper):\n",
    "    def __init__(self, env=None, skip=4):\n",
    "        super(MaxAndSkipEnv, self).__init__(env)\n",
    "        self._obs_buffer = deque(maxlen=2)\n",
    "        self._skip = skip\n",
    "\n",
    "    def step(self, action):\n",
    "        total_reward = 0.0\n",
    "        done = None\n",
    "        for _ in range(self._skip):\n",
    "            obs, reward, done, info = self.env.step(action)\n",
    "            self._obs_buffer.append(obs)\n",
    "            total_reward += reward\n",
    "            if done:\n",
    "                break\n",
    "        max_frame = np.max(np.stack(self._obs_buffer), axis=0)\n",
    "        return max_frame, total_reward, done, info\n",
    "\n",
    "    def reset(self):\n",
    "        self._obs_buffer.clear()\n",
    "        obs = self.env.reset()\n",
    "        self._obs_buffer.append(obs)\n",
    "        return obs"
   ]
  },
  {
   "cell_type": "code",
   "execution_count": null,
   "metadata": {
    "colab": {},
    "colab_type": "code",
    "id": "RF2jzWTTmCQ8"
   },
   "outputs": [],
   "source": [
    "env = CustomReward(env)\n",
    "env = MaxAndSkipEnv(env)"
   ]
  },
  {
   "cell_type": "markdown",
   "metadata": {
    "colab_type": "text",
    "id": "121UjE2KfxN0"
   },
   "source": [
    "# DQN Agent"
   ]
  },
  {
   "cell_type": "markdown",
   "metadata": {
    "colab_type": "text",
    "id": "LP9QwHGmf__k"
   },
   "source": [
    "## Memory"
   ]
  },
  {
   "cell_type": "code",
   "execution_count": null,
   "metadata": {
    "colab": {},
    "colab_type": "code",
    "id": "TCaGbUCsgDS5"
   },
   "outputs": [],
   "source": [
    "class Memory(object):\n",
    "    def __init__(self, max_memory=100):\n",
    "        self.max_memory = max_memory\n",
    "        self.memory = list()\n",
    "\n",
    "    def remember(self, m):\n",
    "      if len(self.memory) < self.max_memory:\n",
    "        self.memory.append(m)\n",
    "      else:\n",
    "        self.memory.pop(0) # if we have reached the max memory we pop the oldest element of our list\n",
    "        self.memory.append(m)\n",
    "\n",
    "    def random_access(self):\n",
    "        index = np.random.randint(0, len(self.memory))\n",
    "        return self.memory[index]"
   ]
  },
  {
   "cell_type": "code",
   "execution_count": null,
   "metadata": {
    "colab": {},
    "colab_type": "code",
    "id": "ZnqTG165efXr"
   },
   "outputs": [],
   "source": [
    "\n",
    "from keras import backend as K\n",
    "from keras.optimizers import Adam\n",
    "\n",
    "\n",
    "class DQN():\n",
    "    def __init__(self,  epsilon = 0.1, memory_size=1000, batch_size = 16,n_actions=7, reinforce_rate=10):\n",
    "\n",
    "        # Discount for Q learning\n",
    "        self.discount = 0.99\n",
    "\n",
    "        self.reinforce_rate = reinforce_rate\n",
    "        \n",
    "        self.n_actions = n_actions\n",
    "        self.state_size=240\n",
    "\n",
    "        # epsilon\n",
    "        self.epsilon = epsilon\n",
    "\n",
    "        # Memory\n",
    "        self.memory = Memory(memory_size)\n",
    "        \n",
    "        # Batch size when learning\n",
    "        self.batch_size = batch_size\n",
    "\n",
    "\n",
    "    def set_epsilon(self, e):\n",
    "        self.epsilon = e\n",
    "\n",
    "    def act(self,s,train=True):\n",
    "        \"\"\" This function should return the next action to do:\n",
    "        an integer between 0 and 4 (not included) with a random exploration of epsilon\"\"\"\n",
    "        if train:\n",
    "            if np.random.rand() <= self.epsilon:\n",
    "                a = np.random.randint(0, self.n_actions, size=1)[0]\n",
    "\n",
    "            else:\n",
    "                a = self.learned_act(s)\n",
    "\n",
    "        else: # in some cases, this can improve the performance.. remove it if poor performances\n",
    "            a = self.learned_act(s)\n",
    "\n",
    "        return a\n",
    "\n",
    "    def learned_act(self, s):\n",
    "       # We take the action that gives the best reward Q as a learned action \n",
    "        q_pred = self.model.predict(np.array([s]))[0]\n",
    "        a = np.argmax(q_pred)\n",
    "        return a\n",
    "\n",
    "    def reinforce(self, s_, n_s_, a_, r_, game_over_):\n",
    "        # Two steps: first memorize the states, second learn from the pool\n",
    "\n",
    "        self.memory.remember([s_, n_s_, a_, r_, game_over_])\n",
    "        if len(self.memory.memory) < self.batch_size:\n",
    "            return 0\n",
    "        \n",
    "        \n",
    "        input_states = np.zeros((self.batch_size, 128, 128, 1)) # state with shape (128, 128, 3)\n",
    "        target_q = np.zeros((self.batch_size, self.n_actions))\n",
    "\n",
    "        minibatch = np.array([self.memory.random_access() for i in range(self.batch_size)])\n",
    "        # print(minibatch.shape)\n",
    "        input_states = np.array([item[0] for item in minibatch])\n",
    "        next_states = np.array([item[1] for item in minibatch])\n",
    "        pred_q = self.model.predict(input_states)\n",
    "        next_state_pred_q = self.model.predict(next_states)\n",
    "        \n",
    "        for i in range(self.batch_size):\n",
    "            s_, n_s_, a_, r_, game_over_ = minibatch[i]\n",
    "            if game_over_:\n",
    "                target_q[i, a_] = r_ # don't have to update Q the while in train() will end\n",
    "            else:\n",
    "                target_q[i] = pred_q[i]\n",
    "                # On ajoute de la connaissance pour l'action qu'on a effectué et pour laquelle on a eu du feeedback\n",
    "\n",
    "                # We predict the next Q (with next state input) with the current \n",
    "                # policy and update it using Bellman Equation\n",
    "                target_q[i, a_] = r_ + self.discount * np.max(next_state_pred_q[i])\n",
    "\n",
    "        # HINT: Clip the target to avoid exploiding gradients.. -- clipping is a bit tighter\n",
    "        target_q = np.clip(target_q, -3, 3)\n",
    "        l = self.model.train_on_batch(input_states, target_q)\n",
    "\n",
    "\n",
    "        return l\n",
    "\n",
    "    def _huber_loss(self, target, prediction):\n",
    "        # sqrt(1+error^2)-1\n",
    "        error = prediction - target\n",
    "        return K.mean(K.sqrt(1+K.square(error))-1, axis=-1)\n",
    "\n",
    "    def save(self,name_weights='model.h5',name_model='model.json'):\n",
    "        self.model.save_weights(name_weights, overwrite=True)\n",
    "        with open(name_model, \"w\") as outfile:\n",
    "            json.dump(self.model.to_json(), outfile)\n",
    "            \n",
    "    def load(self,name_weights='model.h5',name_model='model.json'):\n",
    "        with open(name_model, \"r\") as jfile:\n",
    "            model = model_from_json(json.load(jfile))\n",
    "        model.load_weights(name_weights)\n",
    "        model.compile(\"sgd\", \"mse\")\n",
    "        self.model = model\n",
    "\n",
    "\n",
    "class DQN_CNN(DQN):\n",
    "    def __init__(self, *args,lr=0.1,**kwargs):\n",
    "        super(DQN_CNN, self).__init__(*args,**kwargs)\n",
    "        \n",
    "        ###### FILL IN\n",
    "        model = Sequential()\n",
    "        model.add(Conv2D(64, 3, input_shape=(128, 128, 1), padding='same'))\n",
    "        model.add(BatchNormalization())\n",
    "        model.add(Activation('relu'))\n",
    "        model.add(MaxPooling2D())\n",
    "        model.add(Conv2D(128, 3, padding='same'))\n",
    "        model.add(BatchNormalization())\n",
    "        model.add(Activation('relu'))\n",
    "        model.add(MaxPooling2D())\n",
    "\n",
    "        model.add(Flatten())\n",
    "        # model.add(Dense(128, activation='relu'))\n",
    "        model.add(Dense(self.n_actions, activation='linear'))\n",
    "\n",
    "        K.set_image_data_format('channels_last')\n",
    "\n",
    "        # model = Sequential()\n",
    "        # model.add(Flatten())\n",
    "        # model.add(Dense(24, input_dim=240*256, activation='relu'))\n",
    "        # model.add(Dense(24, activation='relu'))\n",
    "        # model.add(Dense(self.n_actions, activation='linear'))\n",
    "        # model.compile(loss='mse',\n",
    "        #               optimizer=sgd(lr=lr))\n",
    "        \n",
    "        model.compile(sgd(lr=lr, decay=1e-4, momentum=0.0), self._huber_loss)\n",
    "        # model.compile(Adam(lr=0.001), self._huber_loss)\n",
    "\n",
    "        self.model = model\n",
    "        "
   ]
  },
  {
   "cell_type": "code",
   "execution_count": null,
   "metadata": {
    "colab": {
     "base_uri": "https://localhost:8080/",
     "height": 479
    },
    "colab_type": "code",
    "id": "Hzb-TakHn26E",
    "outputId": "d52b3609-164b-4f3c-ecea-dd66d749d546"
   },
   "outputs": [
    {
     "name": "stdout",
     "output_type": "stream",
     "text": [
      "WARNING:tensorflow:From /usr/local/lib/python3.6/dist-packages/keras/backend/tensorflow_backend.py:66: The name tf.get_default_graph is deprecated. Please use tf.compat.v1.get_default_graph instead.\n",
      "\n",
      "WARNING:tensorflow:From /usr/local/lib/python3.6/dist-packages/keras/backend/tensorflow_backend.py:541: The name tf.placeholder is deprecated. Please use tf.compat.v1.placeholder instead.\n",
      "\n",
      "WARNING:tensorflow:From /usr/local/lib/python3.6/dist-packages/keras/backend/tensorflow_backend.py:4432: The name tf.random_uniform is deprecated. Please use tf.random.uniform instead.\n",
      "\n",
      "WARNING:tensorflow:From /usr/local/lib/python3.6/dist-packages/keras/backend/tensorflow_backend.py:190: The name tf.get_default_session is deprecated. Please use tf.compat.v1.get_default_session instead.\n",
      "\n",
      "WARNING:tensorflow:From /usr/local/lib/python3.6/dist-packages/keras/backend/tensorflow_backend.py:197: The name tf.ConfigProto is deprecated. Please use tf.compat.v1.ConfigProto instead.\n",
      "\n",
      "WARNING:tensorflow:From /usr/local/lib/python3.6/dist-packages/keras/backend/tensorflow_backend.py:203: The name tf.Session is deprecated. Please use tf.compat.v1.Session instead.\n",
      "\n",
      "WARNING:tensorflow:From /usr/local/lib/python3.6/dist-packages/keras/backend/tensorflow_backend.py:207: The name tf.global_variables is deprecated. Please use tf.compat.v1.global_variables instead.\n",
      "\n",
      "WARNING:tensorflow:From /usr/local/lib/python3.6/dist-packages/keras/backend/tensorflow_backend.py:216: The name tf.is_variable_initialized is deprecated. Please use tf.compat.v1.is_variable_initialized instead.\n",
      "\n",
      "WARNING:tensorflow:From /usr/local/lib/python3.6/dist-packages/keras/backend/tensorflow_backend.py:223: The name tf.variables_initializer is deprecated. Please use tf.compat.v1.variables_initializer instead.\n",
      "\n",
      "WARNING:tensorflow:From /usr/local/lib/python3.6/dist-packages/keras/backend/tensorflow_backend.py:2041: The name tf.nn.fused_batch_norm is deprecated. Please use tf.compat.v1.nn.fused_batch_norm instead.\n",
      "\n",
      "WARNING:tensorflow:From /usr/local/lib/python3.6/dist-packages/keras/backend/tensorflow_backend.py:148: The name tf.placeholder_with_default is deprecated. Please use tf.compat.v1.placeholder_with_default instead.\n",
      "\n",
      "WARNING:tensorflow:From /usr/local/lib/python3.6/dist-packages/keras/backend/tensorflow_backend.py:4267: The name tf.nn.max_pool is deprecated. Please use tf.nn.max_pool2d instead.\n",
      "\n",
      "WARNING:tensorflow:From /usr/local/lib/python3.6/dist-packages/keras/optimizers.py:793: The name tf.train.Optimizer is deprecated. Please use tf.compat.v1.train.Optimizer instead.\n",
      "\n"
     ]
    }
   ],
   "source": [
    "n_train = 1000\n",
    "epsilon = 0.5\n",
    "env = JoypadSpace(env, SIMPLE_MOVEMENT[1:])\n",
    "n_actions = env.action_space.n\n",
    "\n",
    "agent = DQN_CNN(lr=.1, epsilon=epsilon, memory_size=500, batch_size = 8, n_actions=n_actions)"
   ]
  },
  {
   "cell_type": "code",
   "execution_count": null,
   "metadata": {
    "colab": {
     "base_uri": "https://localhost:8080/",
     "height": 1000,
     "referenced_widgets": [
      "63d7234c6f524938b32ab420673af27f",
      "5242513dff104599af93cf1ce21c1e00",
      "94746a8d071942db809a5691b50d9066",
      "7fddaeeee1e54f0b8868fcef14cb1c3b",
      "e74cfabf7f754cdfacab0be94771caaf",
      "a8666e453dcd4cdaa0e1c58360f6a365",
      "839a94ea24fb4c189f3e0ba252eee5ff",
      "4679e21e94b14b18bc5ef7e811b7671a"
     ]
    },
    "colab_type": "code",
    "id": "261EIx9FU1hV",
    "outputId": "99c19b56-356c-4a4e-c185-f029f99ef332"
   },
   "outputs": [
    {
     "data": {
      "application/vnd.jupyter.widget-view+json": {
       "model_id": "63d7234c6f524938b32ab420673af27f",
       "version_major": 2,
       "version_minor": 0
      },
      "text/plain": [
       "HBox(children=(IntProgress(value=0, max=1000), HTML(value='')))"
      ]
     },
     "metadata": {
      "tags": []
     },
     "output_type": "display_data"
    },
    {
     "name": "stderr",
     "output_type": "stream",
     "text": [
      "/usr/local/lib/python3.6/dist-packages/gym_super_mario_bros/smb_env.py:148: RuntimeWarning: overflow encountered in ubyte_scalars\n",
      "  return (self.ram[0x86] - self.ram[0x071c]) % 256\n"
     ]
    },
    {
     "name": "stdout",
     "output_type": "stream",
     "text": [
      "WARNING:tensorflow:From /usr/local/lib/python3.6/dist-packages/tensorflow_core/python/ops/math_grad.py:1424: where (from tensorflow.python.ops.array_ops) is deprecated and will be removed in a future version.\n",
      "Instructions for updating:\n",
      "Use tf.where in 2.0, which has the same broadcast rule as np.where\n",
      "WARNING:tensorflow:From /usr/local/lib/python3.6/dist-packages/keras/backend/tensorflow_backend.py:1033: The name tf.assign_add is deprecated. Please use tf.compat.v1.assign_add instead.\n",
      "\n",
      "WARNING:tensorflow:From /usr/local/lib/python3.6/dist-packages/keras/backend/tensorflow_backend.py:1020: The name tf.assign is deprecated. Please use tf.compat.v1.assign instead.\n",
      "\n"
     ]
    },
    {
     "name": "stderr",
     "output_type": "stream",
     "text": [
      "/usr/local/lib/python3.6/dist-packages/gym_super_mario_bros/smb_env.py:148: RuntimeWarning: overflow encountered in ubyte_scalars\n",
      "  return (self.ram[0x86] - self.ram[0x071c]) % 256\n"
     ]
    },
    {
     "name": "stdout",
     "output_type": "stream",
     "text": [
      "Epoch 001/1000 | Loss 0.3086 | Win/lose count 1855.0/1064.0 (790.0) | Epsilon: 0.497\n"
     ]
    },
    {
     "name": "stderr",
     "output_type": "stream",
     "text": [
      "/usr/local/lib/python3.6/dist-packages/gym_super_mario_bros/smb_env.py:148: RuntimeWarning: overflow encountered in ubyte_scalars\n",
      "  return (self.ram[0x86] - self.ram[0x071c]) % 256\n"
     ]
    },
    {
     "name": "stdout",
     "output_type": "stream",
     "text": [
      "Epoch 002/1000 | Loss 0.1985 | Win/lose count 2967.0/837.0 (2129.0) | Epsilon: 0.497\n",
      "Epoch 003/1000 | Loss 0.2103 | Win/lose count 3956.0/2072.0 (1884.0) | Epsilon: 0.494\n",
      "Epoch 004/1000 | Loss 0.0732 | Win/lose count 3045.0/1092.0 (1953.0) | Epsilon: 0.495\n",
      "Epoch 005/1000 | Loss 0.0759 | Win/lose count 4395.0/2547.0 (1847.0) | Epsilon: 0.492\n",
      "Epoch 006/1000 | Loss 0.2240 | Win/lose count 2399.0/1790.0 (609.0) | Epsilon: 0.494\n",
      "Epoch 007/1000 | Loss 0.1823 | Win/lose count 3727.0/2859.0 (868.0) | Epsilon: 0.492\n",
      "Epoch 008/1000 | Loss 0.3413 | Win/lose count 1917.0/1233.0 (685.0) | Epsilon: 0.494\n"
     ]
    },
    {
     "name": "stderr",
     "output_type": "stream",
     "text": [
      "/usr/local/lib/python3.6/dist-packages/gym_super_mario_bros/smb_env.py:148: RuntimeWarning: overflow encountered in ubyte_scalars\n",
      "  return (self.ram[0x86] - self.ram[0x071c]) % 256\n"
     ]
    },
    {
     "name": "stdout",
     "output_type": "stream",
     "text": [
      "Epoch 009/1000 | Loss 0.2284 | Win/lose count 1926.0/887.0 (1040.0) | Epsilon: 0.494\n",
      "Epoch 010/1000 | Loss 0.2035 | Win/lose count 1880.0/954.0 (926.0) | Epsilon: 0.493\n",
      "Epoch 011/1000 | Loss 0.1739 | Win/lose count 2688.0/1376.0 (1312.0) | Epsilon: 0.492\n",
      "Epoch 012/1000 | Loss 0.3081 | Win/lose count 2680.0/1527.0 (1153.0) | Epsilon: 0.491\n",
      "Epoch 013/1000 | Loss 0.2684 | Win/lose count 2681.0/1637.0 (1045.0) | Epsilon: 0.491\n",
      "Epoch 014/1000 | Loss 0.1953 | Win/lose count 1817.0/480.0 (1337.0) | Epsilon: 0.492\n",
      "Epoch 015/1000 | Loss 0.2013 | Win/lose count 1897.0/870.0 (1027.0) | Epsilon: 0.491\n",
      "Epoch 016/1000 | Loss 0.1381 | Win/lose count 943.0/568.0 (375.0) | Epsilon: 0.491\n",
      "Epoch 017/1000 | Loss 0.2301 | Win/lose count 2344.0/884.0 (1460.0) | Epsilon: 0.49\n",
      "Epoch 018/1000 | Loss 0.1598 | Win/lose count 1721.0/779.0 (942.0) | Epsilon: 0.49\n",
      "Epoch 019/1000 | Loss 0.1185 | Win/lose count 3831.0/1330.0 (2501.0) | Epsilon: 0.487\n",
      "Epoch 020/1000 | Loss 0.0827 | Win/lose count 1443.0/863.0 (580.0) | Epsilon: 0.488\n",
      "Epoch 021/1000 | Loss 0.1161 | Win/lose count 2220.0/742.0 (1478.0) | Epsilon: 0.488\n",
      "Epoch 022/1000 | Loss 0.1518 | Win/lose count 2406.0/956.0 (1450.0) | Epsilon: 0.487\n",
      "Epoch 023/1000 | Loss 0.0970 | Win/lose count 2153.0/644.0 (1509.0) | Epsilon: 0.487\n",
      "Epoch 024/1000 | Loss 0.1904 | Win/lose count 4368.0/1481.0 (2887.0) | Epsilon: 0.484\n",
      "Epoch 025/1000 | Loss 0.0944 | Win/lose count 1570.0/905.0 (664.0) | Epsilon: 0.486\n",
      "Epoch 026/1000 | Loss 0.3437 | Win/lose count 4058.0/2809.0 (1249.0) | Epsilon: 0.482\n",
      "Epoch 027/1000 | Loss 0.6408 | Win/lose count 2873.0/2072.0 (800.0) | Epsilon: 0.483\n"
     ]
    },
    {
     "name": "stderr",
     "output_type": "stream",
     "text": [
      "/usr/local/lib/python3.6/dist-packages/gym_super_mario_bros/smb_env.py:148: RuntimeWarning: overflow encountered in ubyte_scalars\n",
      "  return (self.ram[0x86] - self.ram[0x071c]) % 256\n"
     ]
    },
    {
     "name": "stdout",
     "output_type": "stream",
     "text": [
      "Epoch 028/1000 | Loss 0.4122 | Win/lose count 1574.0/569.0 (1005.0) | Epsilon: 0.485\n",
      "Epoch 029/1000 | Loss 0.5319 | Win/lose count 2444.0/902.0 (1543.0) | Epsilon: 0.484\n",
      "Epoch 030/1000 | Loss 0.4891 | Win/lose count 2871.0/873.0 (1998.0) | Epsilon: 0.483\n",
      "Epoch 031/1000 | Loss 0.3001 | Win/lose count 1807.0/531.0 (1276.0) | Epsilon: 0.483\n",
      "Epoch 032/1000 | Loss 0.4078 | Win/lose count 2173.0/565.0 (1608.0) | Epsilon: 0.482\n",
      "Epoch 033/1000 | Loss 0.2042 | Win/lose count 2772.0/1679.0 (1092.0) | Epsilon: 0.48\n",
      "Epoch 034/1000 | Loss 0.3697 | Win/lose count 951.0/840.0 (111.0) | Epsilon: 0.482\n",
      "Epoch 035/1000 | Loss 0.2182 | Win/lose count 3376.0/3063.0 (313.0) | Epsilon: 0.478\n",
      "Epoch 036/1000 | Loss 0.2581 | Win/lose count 3211.0/1022.0 (2188.0) | Epsilon: 0.479\n",
      "Epoch 037/1000 | Loss 0.2370 | Win/lose count 1779.0/1032.0 (747.0) | Epsilon: 0.48\n",
      "Epoch 038/1000 | Loss 0.1357 | Win/lose count 2015.0/918.0 (1097.0) | Epsilon: 0.479\n",
      "Epoch 039/1000 | Loss 0.2073 | Win/lose count 1104.0/551.0 (553.0) | Epsilon: 0.48\n",
      "Epoch 040/1000 | Loss 0.2091 | Win/lose count 1990.0/801.0 (1189.0) | Epsilon: 0.479\n",
      "Epoch 041/1000 | Loss 0.2282 | Win/lose count 2138.0/542.0 (1596.0) | Epsilon: 0.478\n",
      "Epoch 042/1000 | Loss 0.2739 | Win/lose count 2935.0/1147.0 (1788.0) | Epsilon: 0.476\n",
      "Epoch 043/1000 | Loss 0.1443 | Win/lose count 1106.0/761.0 (346.0) | Epsilon: 0.477\n",
      "Epoch 044/1000 | Loss 0.2114 | Win/lose count 1801.0/439.0 (1363.0) | Epsilon: 0.477\n",
      "Epoch 045/1000 | Loss 0.2215 | Win/lose count 2270.0/932.0 (1338.0) | Epsilon: 0.476\n",
      "Epoch 046/1000 | Loss 0.1778 | Win/lose count 2060.0/1061.0 (999.0) | Epsilon: 0.475\n",
      "Epoch 047/1000 | Loss 0.1494 | Win/lose count 1928.0/456.0 (1472.0) | Epsilon: 0.475\n",
      "Epoch 048/1000 | Loss 0.1240 | Win/lose count 2222.0/990.0 (1231.0) | Epsilon: 0.474\n",
      "Epoch 049/1000 | Loss 0.0448 | Win/lose count 2799.0/657.0 (2142.0) | Epsilon: 0.473\n",
      "Epoch 050/1000 | Loss 0.2164 | Win/lose count 3456.0/2111.0 (1346.0) | Epsilon: 0.471\n",
      "Epoch 051/1000 | Loss 0.1940 | Win/lose count 1912.0/580.0 (1332.0) | Epsilon: 0.473\n",
      "Epoch 052/1000 | Loss 0.1768 | Win/lose count 2132.0/1053.0 (1079.0) | Epsilon: 0.472\n",
      "Epoch 053/1000 | Loss 0.0224 | Win/lose count 2583.0/875.0 (1707.0) | Epsilon: 0.472\n",
      "Epoch 054/1000 | Loss 0.1439 | Win/lose count 1602.0/1131.0 (471.0) | Epsilon: 0.472\n",
      "Epoch 055/1000 | Loss 0.0875 | Win/lose count 2797.0/1452.0 (1345.0) | Epsilon: 0.47\n",
      "Epoch 056/1000 | Loss 0.1924 | Win/lose count 1597.0/1105.0 (493.0) | Epsilon: 0.47\n",
      "Epoch 057/1000 | Loss 0.1887 | Win/lose count 1827.0/891.0 (936.0) | Epsilon: 0.47\n",
      "Epoch 058/1000 | Loss 0.2368 | Win/lose count 3054.0/916.0 (2138.0) | Epsilon: 0.468\n",
      "Epoch 059/1000 | Loss 0.1462 | Win/lose count 2006.0/694.0 (1312.0) | Epsilon: 0.469\n",
      "Epoch 060/1000 | Loss 0.1357 | Win/lose count 1609.0/749.0 (860.0) | Epsilon: 0.469\n",
      "Epoch 061/1000 | Loss 0.1478 | Win/lose count 1568.0/439.0 (1129.0) | Epsilon: 0.468\n",
      "Epoch 062/1000 | Loss 0.5361 | Win/lose count 4375.0/2576.0 (1799.0) | Epsilon: 0.465\n",
      "Epoch 063/1000 | Loss 0.3574 | Win/lose count 1289.0/1146.0 (143.0) | Epsilon: 0.467\n",
      "Epoch 064/1000 | Loss 0.3913 | Win/lose count 1751.0/769.0 (982.0) | Epsilon: 0.467\n"
     ]
    },
    {
     "name": "stderr",
     "output_type": "stream",
     "text": [
      "/usr/local/lib/python3.6/dist-packages/gym_super_mario_bros/smb_env.py:148: RuntimeWarning: overflow encountered in ubyte_scalars\n",
      "  return (self.ram[0x86] - self.ram[0x071c]) % 256\n"
     ]
    },
    {
     "name": "stdout",
     "output_type": "stream",
     "text": [
      "Epoch 065/1000 | Loss 0.2742 | Win/lose count 4445.0/3395.0 (1050.0) | Epsilon: 0.462\n",
      "Epoch 066/1000 | Loss 0.2530 | Win/lose count 3610.0/1892.0 (1718.0) | Epsilon: 0.463\n",
      "Epoch 067/1000 | Loss 0.6453 | Win/lose count 1975.0/1339.0 (637.0) | Epsilon: 0.464\n",
      "Epoch 068/1000 | Loss 0.6196 | Win/lose count 1269.0/825.0 (444.0) | Epsilon: 0.465\n",
      "Epoch 069/1000 | Loss 0.4938 | Win/lose count 1641.0/1366.0 (276.0) | Epsilon: 0.463\n",
      "Epoch 070/1000 | Loss 0.4567 | Win/lose count 3198.0/1843.0 (1355.0) | Epsilon: 0.462\n",
      "Epoch 071/1000 | Loss 0.4267 | Win/lose count 3480.0/2329.0 (1152.0) | Epsilon: 0.46\n",
      "Epoch 072/1000 | Loss 0.1005 | Win/lose count 4247.0/2381.0 (1866.0) | Epsilon: 0.459\n",
      "Epoch 073/1000 | Loss 0.3568 | Win/lose count 1838.0/509.0 (1329.0) | Epsilon: 0.462\n",
      "Epoch 074/1000 | Loss 0.4052 | Win/lose count 1958.0/700.0 (1258.0) | Epsilon: 0.462\n",
      "Epoch 075/1000 | Loss 0.2558 | Win/lose count 2150.0/615.0 (1536.0) | Epsilon: 0.461\n",
      "Epoch 076/1000 | Loss 0.2326 | Win/lose count 4102.0/3771.0 (331.0) | Epsilon: 0.456\n",
      "Epoch 077/1000 | Loss 0.3196 | Win/lose count 822.0/768.0 (54.0) | Epsilon: 0.461\n",
      "Epoch 078/1000 | Loss 0.2730 | Win/lose count 4307.0/2228.0 (2079.0) | Epsilon: 0.456\n",
      "Epoch 079/1000 | Loss 0.1546 | Win/lose count 2474.0/883.0 (1590.0) | Epsilon: 0.458\n",
      "Epoch 080/1000 | Loss 0.1364 | Win/lose count 2165.0/815.0 (1350.0) | Epsilon: 0.458\n",
      "Epoch 081/1000 | Loss 0.2040 | Win/lose count 2746.0/1993.0 (753.0) | Epsilon: 0.456\n",
      "Epoch 082/1000 | Loss 0.2046 | Win/lose count 2547.0/2014.0 (533.0) | Epsilon: 0.456\n",
      "Epoch 083/1000 | Loss 0.1388 | Win/lose count 1756.0/757.0 (999.0) | Epsilon: 0.457\n",
      "Epoch 084/1000 | Loss 0.2018 | Win/lose count 1509.0/887.0 (622.0) | Epsilon: 0.457\n",
      "Epoch 085/1000 | Loss 0.2980 | Win/lose count 2441.0/854.0 (1587.0) | Epsilon: 0.456\n"
     ]
    }
   ],
   "source": [
    "hist = train(agent, env, n_train, prefix='cnn_train_explore', max_step=8000)"
   ]
  },
  {
   "cell_type": "code",
   "execution_count": null,
   "metadata": {
    "colab": {},
    "colab_type": "code",
    "id": "b7fJ2wkiQDVk"
   },
   "outputs": [],
   "source": [
    "def get_x_pos_from_runs(hist):\n",
    "  result = []\n",
    "  for run in hist['x_pos']:\n",
    "    previous_x = -100\n",
    "    max_x = []\n",
    "    for x in run:\n",
    "      if x < previous_x:\n",
    "        max_x.append(previous_x)\n",
    "    previous_x = x\n",
    "    max_x.append(run[-1])\n",
    "    result.append(max(max_x))\n",
    "  print('Successive maximum x_pos: ', result)\n",
    "  return result\n",
    "\n",
    "plt.figure(figsize=(12, 12))\n",
    "plt.subplot(121)\n",
    "plt.title('Loss evolution')\n",
    "plt.plot(hist['loss'])\n",
    "\n",
    "plt.subplot(122)\n",
    "plt.title('Max distance evolution')\n",
    "plt.plot(get_x_pos_from_runs(hist))"
   ]
  },
  {
   "cell_type": "code",
   "execution_count": null,
   "metadata": {
    "colab": {
     "base_uri": "https://localhost:8080/",
     "height": 359
    },
    "colab_type": "code",
    "id": "DMgwb96M3wfk",
    "outputId": "ae910463-d9fa-47e6-ff77-edc18bb46c34"
   },
   "outputs": [
    {
     "data": {
      "text/html": [
       "\n",
       "    <video width=\"360\" height=\"auto\" alt=\"test\" controls><source src=\"data:video/mp4;base64,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\" type=\"video/mp4\" /></video>"
      ],
      "text/plain": [
       "<IPython.core.display.HTML object>"
      ]
     },
     "execution_count": 14,
     "metadata": {
      "tags": []
     },
     "output_type": "execute_result"
    }
   ],
   "source": [
    "video = io.open('./gym-results/openaigym.video.1.7434.video000000.mp4' , 'r+b').read()\n",
    "encoded = base64.b64encode(video)\n",
    "HTML(data='''\n",
    "    <video width=\"360\" height=\"auto\" alt=\"test\" controls><source src=\"data:video/mp4;base64,{0}\" type=\"video/mp4\" /></video>'''\n",
    ".format(encoded.decode('ascii')))"
   ]
  },
  {
   "cell_type": "markdown",
   "metadata": {
    "colab_type": "text",
    "id": "SfbfpHBXcB6u"
   },
   "source": [
    "# Test"
   ]
  },
  {
   "cell_type": "code",
   "execution_count": null,
   "metadata": {
    "colab": {},
    "colab_type": "code",
    "id": "BeQyL91acFaB"
   },
   "outputs": [],
   "source": [
    "def test(agent,env,epochs,prefix='', max_step=4000):\n",
    "    # Number of won games\n",
    "    score = 0        \n",
    "    for e in range(epochs):\n",
    "        agent.set_epsilon(0)\n",
    "        if e == epochs - 1:\n",
    "            print('Monitoring...')\n",
    "            env = wrappers.Monitor(env, \"./gym-results/\", force=True)\n",
    "        \n",
    "        state = env.reset()\n",
    "        state = cv2.cvtColor(state, cv2.COLOR_BGR2GRAY) #shape (240, 256)\n",
    "        state = cv2.resize(state, (128, 128), interpolation = cv2.INTER_AREA)\n",
    "        state = np.moveaxis(np.array([state]), 0, 2) # shape (240, 256, 1)\n",
    "        # This assumes that the games will end\n",
    "        game_over = False\n",
    "    \n",
    "        win = 0\n",
    "        lose = 0\n",
    "        i = 0\n",
    "    \n",
    "        while (not game_over and i < max_step):\n",
    "            # The agent performs an action\n",
    "            action = agent.act(state)\n",
    "    \n",
    "            # Apply an action to the environment, get the next state, the reward\n",
    "            # and if the games end\n",
    "            prev_state = state\n",
    "\n",
    "            state, reward, game_over, info = env.step(action)\n",
    "            state = cv2.cvtColor(state, cv2.COLOR_BGR2GRAY) #shape (240, 256)\n",
    "            state = cv2.resize(state, (128, 128), interpolation = cv2.INTER_AREA)\n",
    "            state = np.moveaxis(np.array([state]), 0, 2) # shape (240, 256, 1)\n",
    "\n",
    "            if reward > 0:\n",
    "                win = win + reward \n",
    "            if reward < 0:\n",
    "                lose = lose -reward\n",
    "        \n",
    "            i += 1\n",
    "\n",
    "        # Update stats\n",
    "        score = score + win-lose\n",
    "\n",
    "        print(\"Win/lose count {}/{}. Average score ({})\"\n",
    "              .format(win, lose, score/(1+e)))\n",
    "    print('Final score: '+str(score/epochs))"
   ]
  },
  {
   "cell_type": "code",
   "execution_count": null,
   "metadata": {
    "colab": {
     "base_uri": "https://localhost:8080/",
     "height": 595
    },
    "colab_type": "code",
    "id": "fXSpGrqacRia",
    "outputId": "ca4e2977-8f68-4eca-e985-3fffd8676fe7"
   },
   "outputs": [
    {
     "name": "stdout",
     "output_type": "stream",
     "text": [
      "Monitoring...\n"
     ]
    },
    {
     "ename": "KeyError",
     "evalue": "ignored",
     "output_type": "error",
     "traceback": [
      "\u001b[0;31m---------------------------------------------------------------------------\u001b[0m",
      "\u001b[0;31mKeyError\u001b[0m                                  Traceback (most recent call last)",
      "\u001b[0;32m<ipython-input-51-4d84b878774c>\u001b[0m in \u001b[0;36m<module>\u001b[0;34m()\u001b[0m\n\u001b[1;32m      5\u001b[0m \u001b[0;31m# Load best model\u001b[0m\u001b[0;34m\u001b[0m\u001b[0;34m\u001b[0m\u001b[0;34m\u001b[0m\u001b[0m\n\u001b[1;32m      6\u001b[0m \u001b[0magent\u001b[0m\u001b[0;34m.\u001b[0m\u001b[0mload\u001b[0m\u001b[0;34m(\u001b[0m\u001b[0;34m'cnn_train_exploremodel.h5'\u001b[0m\u001b[0;34m,\u001b[0m \u001b[0;34m'cnn_train_exploremodel.json'\u001b[0m\u001b[0;34m)\u001b[0m\u001b[0;34m\u001b[0m\u001b[0;34m\u001b[0m\u001b[0m\n\u001b[0;32m----> 7\u001b[0;31m \u001b[0mtest\u001b[0m\u001b[0;34m(\u001b[0m\u001b[0magent\u001b[0m\u001b[0;34m,\u001b[0m \u001b[0menv\u001b[0m\u001b[0;34m,\u001b[0m \u001b[0;36m1\u001b[0m\u001b[0;34m)\u001b[0m\u001b[0;34m\u001b[0m\u001b[0;34m\u001b[0m\u001b[0m\n\u001b[0m",
      "\u001b[0;32m<ipython-input-50-fca29d4b8010>\u001b[0m in \u001b[0;36mtest\u001b[0;34m(agent, env, epochs, prefix, max_step)\u001b[0m\n\u001b[1;32m     27\u001b[0m             \u001b[0mprev_state\u001b[0m \u001b[0;34m=\u001b[0m \u001b[0mstate\u001b[0m\u001b[0;34m\u001b[0m\u001b[0;34m\u001b[0m\u001b[0m\n\u001b[1;32m     28\u001b[0m \u001b[0;34m\u001b[0m\u001b[0m\n\u001b[0;32m---> 29\u001b[0;31m             \u001b[0mstate\u001b[0m\u001b[0;34m,\u001b[0m \u001b[0mreward\u001b[0m\u001b[0;34m,\u001b[0m \u001b[0mgame_over\u001b[0m\u001b[0;34m,\u001b[0m \u001b[0minfo\u001b[0m \u001b[0;34m=\u001b[0m \u001b[0menv\u001b[0m\u001b[0;34m.\u001b[0m\u001b[0mstep\u001b[0m\u001b[0;34m(\u001b[0m\u001b[0maction\u001b[0m\u001b[0;34m)\u001b[0m\u001b[0;34m\u001b[0m\u001b[0;34m\u001b[0m\u001b[0m\n\u001b[0m\u001b[1;32m     30\u001b[0m             \u001b[0mstate\u001b[0m \u001b[0;34m=\u001b[0m \u001b[0mcv2\u001b[0m\u001b[0;34m.\u001b[0m\u001b[0mcvtColor\u001b[0m\u001b[0;34m(\u001b[0m\u001b[0mstate\u001b[0m\u001b[0;34m,\u001b[0m \u001b[0mcv2\u001b[0m\u001b[0;34m.\u001b[0m\u001b[0mCOLOR_BGR2GRAY\u001b[0m\u001b[0;34m)\u001b[0m \u001b[0;31m#shape (240, 256)\u001b[0m\u001b[0;34m\u001b[0m\u001b[0;34m\u001b[0m\u001b[0m\n\u001b[1;32m     31\u001b[0m             \u001b[0mstate\u001b[0m \u001b[0;34m=\u001b[0m \u001b[0mcv2\u001b[0m\u001b[0;34m.\u001b[0m\u001b[0mresize\u001b[0m\u001b[0;34m(\u001b[0m\u001b[0mstate\u001b[0m\u001b[0;34m,\u001b[0m \u001b[0;34m(\u001b[0m\u001b[0;36m128\u001b[0m\u001b[0;34m,\u001b[0m \u001b[0;36m128\u001b[0m\u001b[0;34m)\u001b[0m\u001b[0;34m,\u001b[0m \u001b[0minterpolation\u001b[0m \u001b[0;34m=\u001b[0m \u001b[0mcv2\u001b[0m\u001b[0;34m.\u001b[0m\u001b[0mINTER_AREA\u001b[0m\u001b[0;34m)\u001b[0m\u001b[0;34m\u001b[0m\u001b[0;34m\u001b[0m\u001b[0m\n",
      "\u001b[0;32m/usr/local/lib/python3.6/dist-packages/gym/wrappers/monitor.py\u001b[0m in \u001b[0;36mstep\u001b[0;34m(self, action)\u001b[0m\n\u001b[1;32m     29\u001b[0m     \u001b[0;32mdef\u001b[0m \u001b[0mstep\u001b[0m\u001b[0;34m(\u001b[0m\u001b[0mself\u001b[0m\u001b[0;34m,\u001b[0m \u001b[0maction\u001b[0m\u001b[0;34m)\u001b[0m\u001b[0;34m:\u001b[0m\u001b[0;34m\u001b[0m\u001b[0;34m\u001b[0m\u001b[0m\n\u001b[1;32m     30\u001b[0m         \u001b[0mself\u001b[0m\u001b[0;34m.\u001b[0m\u001b[0m_before_step\u001b[0m\u001b[0;34m(\u001b[0m\u001b[0maction\u001b[0m\u001b[0;34m)\u001b[0m\u001b[0;34m\u001b[0m\u001b[0;34m\u001b[0m\u001b[0m\n\u001b[0;32m---> 31\u001b[0;31m         \u001b[0mobservation\u001b[0m\u001b[0;34m,\u001b[0m \u001b[0mreward\u001b[0m\u001b[0;34m,\u001b[0m \u001b[0mdone\u001b[0m\u001b[0;34m,\u001b[0m \u001b[0minfo\u001b[0m \u001b[0;34m=\u001b[0m \u001b[0mself\u001b[0m\u001b[0;34m.\u001b[0m\u001b[0menv\u001b[0m\u001b[0;34m.\u001b[0m\u001b[0mstep\u001b[0m\u001b[0;34m(\u001b[0m\u001b[0maction\u001b[0m\u001b[0;34m)\u001b[0m\u001b[0;34m\u001b[0m\u001b[0;34m\u001b[0m\u001b[0m\n\u001b[0m\u001b[1;32m     32\u001b[0m         \u001b[0mdone\u001b[0m \u001b[0;34m=\u001b[0m \u001b[0mself\u001b[0m\u001b[0;34m.\u001b[0m\u001b[0m_after_step\u001b[0m\u001b[0;34m(\u001b[0m\u001b[0mobservation\u001b[0m\u001b[0;34m,\u001b[0m \u001b[0mreward\u001b[0m\u001b[0;34m,\u001b[0m \u001b[0mdone\u001b[0m\u001b[0;34m,\u001b[0m \u001b[0minfo\u001b[0m\u001b[0;34m)\u001b[0m\u001b[0;34m\u001b[0m\u001b[0;34m\u001b[0m\u001b[0m\n\u001b[1;32m     33\u001b[0m \u001b[0;34m\u001b[0m\u001b[0m\n",
      "\u001b[0;32m/usr/local/lib/python3.6/dist-packages/nes_py/wrappers/joypad_space.py\u001b[0m in \u001b[0;36mstep\u001b[0;34m(self, action)\u001b[0m\n\u001b[1;32m     72\u001b[0m         \"\"\"\n\u001b[1;32m     73\u001b[0m         \u001b[0;31m# take the step and record the output\u001b[0m\u001b[0;34m\u001b[0m\u001b[0;34m\u001b[0m\u001b[0;34m\u001b[0m\u001b[0m\n\u001b[0;32m---> 74\u001b[0;31m         \u001b[0;32mreturn\u001b[0m \u001b[0mself\u001b[0m\u001b[0;34m.\u001b[0m\u001b[0menv\u001b[0m\u001b[0;34m.\u001b[0m\u001b[0mstep\u001b[0m\u001b[0;34m(\u001b[0m\u001b[0mself\u001b[0m\u001b[0;34m.\u001b[0m\u001b[0m_action_map\u001b[0m\u001b[0;34m[\u001b[0m\u001b[0maction\u001b[0m\u001b[0;34m]\u001b[0m\u001b[0;34m)\u001b[0m\u001b[0;34m\u001b[0m\u001b[0;34m\u001b[0m\u001b[0m\n\u001b[0m\u001b[1;32m     75\u001b[0m \u001b[0;34m\u001b[0m\u001b[0m\n\u001b[1;32m     76\u001b[0m     \u001b[0;32mdef\u001b[0m \u001b[0mreset\u001b[0m\u001b[0;34m(\u001b[0m\u001b[0mself\u001b[0m\u001b[0;34m)\u001b[0m\u001b[0;34m:\u001b[0m\u001b[0;34m\u001b[0m\u001b[0;34m\u001b[0m\u001b[0m\n",
      "\u001b[0;31mKeyError\u001b[0m: 2"
     ]
    }
   ],
   "source": [
    "env = gym_super_mario_bros.make('SuperMarioBros-v0')\n",
    "env = JoypadSpace(env, SIMPLE_MOVEMENT[:1])\n",
    "n_actions = env.action_space.n\n",
    "\n",
    "# Load best model\n",
    "agent.load('cnn_train_exploremodel.h5', 'cnn_train_exploremodel.json')\n",
    "test(agent, env, 1)"
   ]
  },
  {
   "cell_type": "markdown",
   "metadata": {
    "colab_type": "text",
    "id": "nGUGtqjo3TEF"
   },
   "source": [
    "# Grid search for optimum epsilon\n",
    "\n",
    "For the epsilon grid search we train on 10 epoch, with a batchsize of 8"
   ]
  },
  {
   "cell_type": "code",
   "execution_count": null,
   "metadata": {
    "colab": {
     "base_uri": "https://localhost:8080/",
     "height": 509,
     "referenced_widgets": [
      "c194aa65bbff4e0291fd55a881b27768",
      "d736e6017af247e393d7587c10d2f840",
      "ad8622cbdd3d4cfa882d9d4cc088d4f6",
      "ccd0d59cf14d4b1eb7f5399bdb96facd",
      "0e63488b21e444f1aa9b8bc8ef053914",
      "a475a2a6ed7940249641a775165a26fc",
      "71e843dfe8854178b54024bcb94895bf",
      "27667d694e324671a02c192b74bae90e",
      "1834b4d67c3843659b5e10ce7b3647c0",
      "3571d7c123c049f7a56e0cd7f771a20f",
      "86216e00c6694cc8a6869fe16d7bfc93",
      "e9574c30b4354234a1e9cae8ff31d720",
      "9f271646561a4a1b83c1cd355af2f457",
      "69c9afe6307c474f94bdfeead8718c8b",
      "f2e49b1797884623a13cd4051c5cbd94",
      "13756b58fbb746cc9f68973f680ae2b9"
     ]
    },
    "colab_type": "code",
    "id": "cT0DP1_P3SUA",
    "outputId": "d9b4d612-7658-46c6-abc6-89c0972709c2"
   },
   "outputs": [
    {
     "data": {
      "application/vnd.jupyter.widget-view+json": {
       "model_id": "c194aa65bbff4e0291fd55a881b27768",
       "version_major": 2,
       "version_minor": 0
      },
      "text/plain": [
       "HBox(children=(IntProgress(value=0, max=10), HTML(value='')))"
      ]
     },
     "metadata": {
      "tags": []
     },
     "output_type": "display_data"
    },
    {
     "name": "stdout",
     "output_type": "stream",
     "text": [
      "WARNING:tensorflow:From /usr/local/lib/python3.6/dist-packages/tensorflow_core/python/ops/math_grad.py:1424: where (from tensorflow.python.ops.array_ops) is deprecated and will be removed in a future version.\n",
      "Instructions for updating:\n",
      "Use tf.where in 2.0, which has the same broadcast rule as np.where\n",
      "WARNING:tensorflow:From /usr/local/lib/python3.6/dist-packages/keras/backend/tensorflow_backend.py:1033: The name tf.assign_add is deprecated. Please use tf.compat.v1.assign_add instead.\n",
      "\n",
      "WARNING:tensorflow:From /usr/local/lib/python3.6/dist-packages/keras/backend/tensorflow_backend.py:1020: The name tf.assign is deprecated. Please use tf.compat.v1.assign instead.\n",
      "\n"
     ]
    },
    {
     "name": "stderr",
     "output_type": "stream",
     "text": [
      "/usr/local/lib/python3.6/dist-packages/gym_super_mario_bros/smb_env.py:148: RuntimeWarning: overflow encountered in ubyte_scalars\n",
      "  return (self.ram[0x86] - self.ram[0x071c]) % 256\n"
     ]
    },
    {
     "name": "stdout",
     "output_type": "stream",
     "text": [
      "Epoch 001/010 | Loss 0.0270 | Win/lose count 2103/79 (2024) | Epsilon: 0.08904301938981736\n",
      "Epoch 002/010 | Loss 0.0144 | Win/lose count 1597/76 (1521) | Epsilon: 0.07920873514500848\n",
      "Epoch 003/010 | Loss 0.0127 | Win/lose count 1186/62 (1124) | Epsilon: 0.06961675106468246\n",
      "Epoch 004/010 | Loss 0.0192 | Win/lose count 1985/70 (1915) | Epsilon: 0.059410709983694916\n",
      "Epoch 005/010 | Loss 0.0024 | Win/lose count 1662/86 (1576) | Epsilon: 0.049429773648633074\n",
      "Epoch 006/010 | Loss 0.0046 | Win/lose count 1988/79 (1909) | Epsilon: 0.03953551554730103\n",
      "Epoch 007/010 | Loss 0.0062 | Win/lose count 1566/78 (1488) | Epsilon: 0.029713673697403162\n",
      "Epoch 008/010 | Loss 0.0047 | Win/lose count 1558/94 (1464) | Epsilon: 0.019748592249564316\n",
      "Epoch 009/010 | Loss 0.0012 | Win/lose count 1759/99 (1660) | Epsilon: 0.009854961361961003\n",
      "Monitoring ...\n"
     ]
    },
    {
     "name": "stderr",
     "output_type": "stream",
     "text": [
      "/usr/local/lib/python3.6/dist-packages/gym_super_mario_bros/smb_env.py:148: RuntimeWarning: overflow encountered in ubyte_scalars\n",
      "  return (self.ram[0x86] - self.ram[0x071c]) % 256\n"
     ]
    },
    {
     "name": "stdout",
     "output_type": "stream",
     "text": [
      "Epoch 010/010 | Loss 0.0031 | Win/lose count 797/60 (737) | Epsilon: 0.0\n",
      "\n",
      "Best run index:  1\n"
     ]
    },
    {
     "data": {
      "application/vnd.jupyter.widget-view+json": {
       "model_id": "1834b4d67c3843659b5e10ce7b3647c0",
       "version_major": 2,
       "version_minor": 0
      },
      "text/plain": [
       "HBox(children=(IntProgress(value=0, max=10), HTML(value='')))"
      ]
     },
     "metadata": {
      "tags": []
     },
     "output_type": "display_data"
    }
   ],
   "source": [
    "hist = []\n",
    "tested_epsilon = [.1, .5, 1]\n",
    "for epsilon in tested_epsilon:\n",
    "  agent = DQN_CNN(lr=.1, epsilon=epsilon, memory_size=500, batch_size = 8, n_actions=n_actions)\n",
    "  hist.append(train(agent, env, n_train, prefix='cnn_train_explore', max_step=4000))"
   ]
  }
 ],
 "metadata": {
  "accelerator": "GPU",
  "colab": {
   "collapsed_sections": [],
   "name": "SMBDQN.ipynb",
   "provenance": [],
   "toc_visible": true
  },
  "kernelspec": {
   "display_name": "Python 3",
   "language": "python",
   "name": "python3"
  },
  "language_info": {
   "codemirror_mode": {
    "name": "ipython",
    "version": 3
   },
   "file_extension": ".py",
   "mimetype": "text/x-python",
   "name": "python",
   "nbconvert_exporter": "python",
   "pygments_lexer": "ipython3",
   "version": "3.8.1"
  },
  "widgets": {
   "application/vnd.jupyter.widget-state+json": {
    "0e63488b21e444f1aa9b8bc8ef053914": {
     "model_module": "@jupyter-widgets/controls",
     "model_name": "ProgressStyleModel",
     "state": {
      "_model_module": "@jupyter-widgets/controls",
      "_model_module_version": "1.5.0",
      "_model_name": "ProgressStyleModel",
      "_view_count": null,
      "_view_module": "@jupyter-widgets/base",
      "_view_module_version": "1.2.0",
      "_view_name": "StyleView",
      "bar_color": null,
      "description_width": ""
     }
    },
    "13756b58fbb746cc9f68973f680ae2b9": {
     "model_module": "@jupyter-widgets/base",
     "model_name": "LayoutModel",
     "state": {
      "_model_module": "@jupyter-widgets/base",
      "_model_module_version": "1.2.0",
      "_model_name": "LayoutModel",
      "_view_count": null,
      "_view_module": "@jupyter-widgets/base",
      "_view_module_version": "1.2.0",
      "_view_name": "LayoutView",
      "align_content": null,
      "align_items": null,
      "align_self": null,
      "border": null,
      "bottom": null,
      "display": null,
      "flex": null,
      "flex_flow": null,
      "grid_area": null,
      "grid_auto_columns": null,
      "grid_auto_flow": null,
      "grid_auto_rows": null,
      "grid_column": null,
      "grid_gap": null,
      "grid_row": null,
      "grid_template_areas": null,
      "grid_template_columns": null,
      "grid_template_rows": null,
      "height": null,
      "justify_content": null,
      "justify_items": null,
      "left": null,
      "margin": null,
      "max_height": null,
      "max_width": null,
      "min_height": null,
      "min_width": null,
      "object_fit": null,
      "object_position": null,
      "order": null,
      "overflow": null,
      "overflow_x": null,
      "overflow_y": null,
      "padding": null,
      "right": null,
      "top": null,
      "visibility": null,
      "width": null
     }
    },
    "1834b4d67c3843659b5e10ce7b3647c0": {
     "model_module": "@jupyter-widgets/controls",
     "model_name": "HBoxModel",
     "state": {
      "_dom_classes": [],
      "_model_module": "@jupyter-widgets/controls",
      "_model_module_version": "1.5.0",
      "_model_name": "HBoxModel",
      "_view_count": null,
      "_view_module": "@jupyter-widgets/controls",
      "_view_module_version": "1.5.0",
      "_view_name": "HBoxView",
      "box_style": "",
      "children": [
       "IPY_MODEL_86216e00c6694cc8a6869fe16d7bfc93",
       "IPY_MODEL_e9574c30b4354234a1e9cae8ff31d720"
      ],
      "layout": "IPY_MODEL_3571d7c123c049f7a56e0cd7f771a20f"
     }
    },
    "27667d694e324671a02c192b74bae90e": {
     "model_module": "@jupyter-widgets/base",
     "model_name": "LayoutModel",
     "state": {
      "_model_module": "@jupyter-widgets/base",
      "_model_module_version": "1.2.0",
      "_model_name": "LayoutModel",
      "_view_count": null,
      "_view_module": "@jupyter-widgets/base",
      "_view_module_version": "1.2.0",
      "_view_name": "LayoutView",
      "align_content": null,
      "align_items": null,
      "align_self": null,
      "border": null,
      "bottom": null,
      "display": null,
      "flex": null,
      "flex_flow": null,
      "grid_area": null,
      "grid_auto_columns": null,
      "grid_auto_flow": null,
      "grid_auto_rows": null,
      "grid_column": null,
      "grid_gap": null,
      "grid_row": null,
      "grid_template_areas": null,
      "grid_template_columns": null,
      "grid_template_rows": null,
      "height": null,
      "justify_content": null,
      "justify_items": null,
      "left": null,
      "margin": null,
      "max_height": null,
      "max_width": null,
      "min_height": null,
      "min_width": null,
      "object_fit": null,
      "object_position": null,
      "order": null,
      "overflow": null,
      "overflow_x": null,
      "overflow_y": null,
      "padding": null,
      "right": null,
      "top": null,
      "visibility": null,
      "width": null
     }
    },
    "3571d7c123c049f7a56e0cd7f771a20f": {
     "model_module": "@jupyter-widgets/base",
     "model_name": "LayoutModel",
     "state": {
      "_model_module": "@jupyter-widgets/base",
      "_model_module_version": "1.2.0",
      "_model_name": "LayoutModel",
      "_view_count": null,
      "_view_module": "@jupyter-widgets/base",
      "_view_module_version": "1.2.0",
      "_view_name": "LayoutView",
      "align_content": null,
      "align_items": null,
      "align_self": null,
      "border": null,
      "bottom": null,
      "display": null,
      "flex": null,
      "flex_flow": null,
      "grid_area": null,
      "grid_auto_columns": null,
      "grid_auto_flow": null,
      "grid_auto_rows": null,
      "grid_column": null,
      "grid_gap": null,
      "grid_row": null,
      "grid_template_areas": null,
      "grid_template_columns": null,
      "grid_template_rows": null,
      "height": null,
      "justify_content": null,
      "justify_items": null,
      "left": null,
      "margin": null,
      "max_height": null,
      "max_width": null,
      "min_height": null,
      "min_width": null,
      "object_fit": null,
      "object_position": null,
      "order": null,
      "overflow": null,
      "overflow_x": null,
      "overflow_y": null,
      "padding": null,
      "right": null,
      "top": null,
      "visibility": null,
      "width": null
     }
    },
    "4679e21e94b14b18bc5ef7e811b7671a": {
     "model_module": "@jupyter-widgets/base",
     "model_name": "LayoutModel",
     "state": {
      "_model_module": "@jupyter-widgets/base",
      "_model_module_version": "1.2.0",
      "_model_name": "LayoutModel",
      "_view_count": null,
      "_view_module": "@jupyter-widgets/base",
      "_view_module_version": "1.2.0",
      "_view_name": "LayoutView",
      "align_content": null,
      "align_items": null,
      "align_self": null,
      "border": null,
      "bottom": null,
      "display": null,
      "flex": null,
      "flex_flow": null,
      "grid_area": null,
      "grid_auto_columns": null,
      "grid_auto_flow": null,
      "grid_auto_rows": null,
      "grid_column": null,
      "grid_gap": null,
      "grid_row": null,
      "grid_template_areas": null,
      "grid_template_columns": null,
      "grid_template_rows": null,
      "height": null,
      "justify_content": null,
      "justify_items": null,
      "left": null,
      "margin": null,
      "max_height": null,
      "max_width": null,
      "min_height": null,
      "min_width": null,
      "object_fit": null,
      "object_position": null,
      "order": null,
      "overflow": null,
      "overflow_x": null,
      "overflow_y": null,
      "padding": null,
      "right": null,
      "top": null,
      "visibility": null,
      "width": null
     }
    },
    "5242513dff104599af93cf1ce21c1e00": {
     "model_module": "@jupyter-widgets/base",
     "model_name": "LayoutModel",
     "state": {
      "_model_module": "@jupyter-widgets/base",
      "_model_module_version": "1.2.0",
      "_model_name": "LayoutModel",
      "_view_count": null,
      "_view_module": "@jupyter-widgets/base",
      "_view_module_version": "1.2.0",
      "_view_name": "LayoutView",
      "align_content": null,
      "align_items": null,
      "align_self": null,
      "border": null,
      "bottom": null,
      "display": null,
      "flex": null,
      "flex_flow": null,
      "grid_area": null,
      "grid_auto_columns": null,
      "grid_auto_flow": null,
      "grid_auto_rows": null,
      "grid_column": null,
      "grid_gap": null,
      "grid_row": null,
      "grid_template_areas": null,
      "grid_template_columns": null,
      "grid_template_rows": null,
      "height": null,
      "justify_content": null,
      "justify_items": null,
      "left": null,
      "margin": null,
      "max_height": null,
      "max_width": null,
      "min_height": null,
      "min_width": null,
      "object_fit": null,
      "object_position": null,
      "order": null,
      "overflow": null,
      "overflow_x": null,
      "overflow_y": null,
      "padding": null,
      "right": null,
      "top": null,
      "visibility": null,
      "width": null
     }
    },
    "63d7234c6f524938b32ab420673af27f": {
     "model_module": "@jupyter-widgets/controls",
     "model_name": "HBoxModel",
     "state": {
      "_dom_classes": [],
      "_model_module": "@jupyter-widgets/controls",
      "_model_module_version": "1.5.0",
      "_model_name": "HBoxModel",
      "_view_count": null,
      "_view_module": "@jupyter-widgets/controls",
      "_view_module_version": "1.5.0",
      "_view_name": "HBoxView",
      "box_style": "",
      "children": [
       "IPY_MODEL_94746a8d071942db809a5691b50d9066",
       "IPY_MODEL_7fddaeeee1e54f0b8868fcef14cb1c3b"
      ],
      "layout": "IPY_MODEL_5242513dff104599af93cf1ce21c1e00"
     }
    },
    "69c9afe6307c474f94bdfeead8718c8b": {
     "model_module": "@jupyter-widgets/base",
     "model_name": "LayoutModel",
     "state": {
      "_model_module": "@jupyter-widgets/base",
      "_model_module_version": "1.2.0",
      "_model_name": "LayoutModel",
      "_view_count": null,
      "_view_module": "@jupyter-widgets/base",
      "_view_module_version": "1.2.0",
      "_view_name": "LayoutView",
      "align_content": null,
      "align_items": null,
      "align_self": null,
      "border": null,
      "bottom": null,
      "display": null,
      "flex": null,
      "flex_flow": null,
      "grid_area": null,
      "grid_auto_columns": null,
      "grid_auto_flow": null,
      "grid_auto_rows": null,
      "grid_column": null,
      "grid_gap": null,
      "grid_row": null,
      "grid_template_areas": null,
      "grid_template_columns": null,
      "grid_template_rows": null,
      "height": null,
      "justify_content": null,
      "justify_items": null,
      "left": null,
      "margin": null,
      "max_height": null,
      "max_width": null,
      "min_height": null,
      "min_width": null,
      "object_fit": null,
      "object_position": null,
      "order": null,
      "overflow": null,
      "overflow_x": null,
      "overflow_y": null,
      "padding": null,
      "right": null,
      "top": null,
      "visibility": null,
      "width": null
     }
    },
    "71e843dfe8854178b54024bcb94895bf": {
     "model_module": "@jupyter-widgets/controls",
     "model_name": "DescriptionStyleModel",
     "state": {
      "_model_module": "@jupyter-widgets/controls",
      "_model_module_version": "1.5.0",
      "_model_name": "DescriptionStyleModel",
      "_view_count": null,
      "_view_module": "@jupyter-widgets/base",
      "_view_module_version": "1.2.0",
      "_view_name": "StyleView",
      "description_width": ""
     }
    },
    "7fddaeeee1e54f0b8868fcef14cb1c3b": {
     "model_module": "@jupyter-widgets/controls",
     "model_name": "HTMLModel",
     "state": {
      "_dom_classes": [],
      "_model_module": "@jupyter-widgets/controls",
      "_model_module_version": "1.5.0",
      "_model_name": "HTMLModel",
      "_view_count": null,
      "_view_module": "@jupyter-widgets/controls",
      "_view_module_version": "1.5.0",
      "_view_name": "HTMLView",
      "description": "",
      "description_tooltip": null,
      "layout": "IPY_MODEL_4679e21e94b14b18bc5ef7e811b7671a",
      "placeholder": "​",
      "style": "IPY_MODEL_839a94ea24fb4c189f3e0ba252eee5ff",
      "value": "  8% 85/1000 [10:05&lt;1:32:09,  6.04s/it]"
     }
    },
    "839a94ea24fb4c189f3e0ba252eee5ff": {
     "model_module": "@jupyter-widgets/controls",
     "model_name": "DescriptionStyleModel",
     "state": {
      "_model_module": "@jupyter-widgets/controls",
      "_model_module_version": "1.5.0",
      "_model_name": "DescriptionStyleModel",
      "_view_count": null,
      "_view_module": "@jupyter-widgets/base",
      "_view_module_version": "1.2.0",
      "_view_name": "StyleView",
      "description_width": ""
     }
    },
    "86216e00c6694cc8a6869fe16d7bfc93": {
     "model_module": "@jupyter-widgets/controls",
     "model_name": "IntProgressModel",
     "state": {
      "_dom_classes": [],
      "_model_module": "@jupyter-widgets/controls",
      "_model_module_version": "1.5.0",
      "_model_name": "IntProgressModel",
      "_view_count": null,
      "_view_module": "@jupyter-widgets/controls",
      "_view_module_version": "1.5.0",
      "_view_name": "ProgressView",
      "bar_style": "",
      "description": "",
      "description_tooltip": null,
      "layout": "IPY_MODEL_69c9afe6307c474f94bdfeead8718c8b",
      "max": 10,
      "min": 0,
      "orientation": "horizontal",
      "style": "IPY_MODEL_9f271646561a4a1b83c1cd355af2f457",
      "value": 0
     }
    },
    "94746a8d071942db809a5691b50d9066": {
     "model_module": "@jupyter-widgets/controls",
     "model_name": "IntProgressModel",
     "state": {
      "_dom_classes": [],
      "_model_module": "@jupyter-widgets/controls",
      "_model_module_version": "1.5.0",
      "_model_name": "IntProgressModel",
      "_view_count": null,
      "_view_module": "@jupyter-widgets/controls",
      "_view_module_version": "1.5.0",
      "_view_name": "ProgressView",
      "bar_style": "",
      "description": "",
      "description_tooltip": null,
      "layout": "IPY_MODEL_a8666e453dcd4cdaa0e1c58360f6a365",
      "max": 1000,
      "min": 0,
      "orientation": "horizontal",
      "style": "IPY_MODEL_e74cfabf7f754cdfacab0be94771caaf",
      "value": 85
     }
    },
    "9f271646561a4a1b83c1cd355af2f457": {
     "model_module": "@jupyter-widgets/controls",
     "model_name": "ProgressStyleModel",
     "state": {
      "_model_module": "@jupyter-widgets/controls",
      "_model_module_version": "1.5.0",
      "_model_name": "ProgressStyleModel",
      "_view_count": null,
      "_view_module": "@jupyter-widgets/base",
      "_view_module_version": "1.2.0",
      "_view_name": "StyleView",
      "bar_color": null,
      "description_width": ""
     }
    },
    "a475a2a6ed7940249641a775165a26fc": {
     "model_module": "@jupyter-widgets/base",
     "model_name": "LayoutModel",
     "state": {
      "_model_module": "@jupyter-widgets/base",
      "_model_module_version": "1.2.0",
      "_model_name": "LayoutModel",
      "_view_count": null,
      "_view_module": "@jupyter-widgets/base",
      "_view_module_version": "1.2.0",
      "_view_name": "LayoutView",
      "align_content": null,
      "align_items": null,
      "align_self": null,
      "border": null,
      "bottom": null,
      "display": null,
      "flex": null,
      "flex_flow": null,
      "grid_area": null,
      "grid_auto_columns": null,
      "grid_auto_flow": null,
      "grid_auto_rows": null,
      "grid_column": null,
      "grid_gap": null,
      "grid_row": null,
      "grid_template_areas": null,
      "grid_template_columns": null,
      "grid_template_rows": null,
      "height": null,
      "justify_content": null,
      "justify_items": null,
      "left": null,
      "margin": null,
      "max_height": null,
      "max_width": null,
      "min_height": null,
      "min_width": null,
      "object_fit": null,
      "object_position": null,
      "order": null,
      "overflow": null,
      "overflow_x": null,
      "overflow_y": null,
      "padding": null,
      "right": null,
      "top": null,
      "visibility": null,
      "width": null
     }
    },
    "a8666e453dcd4cdaa0e1c58360f6a365": {
     "model_module": "@jupyter-widgets/base",
     "model_name": "LayoutModel",
     "state": {
      "_model_module": "@jupyter-widgets/base",
      "_model_module_version": "1.2.0",
      "_model_name": "LayoutModel",
      "_view_count": null,
      "_view_module": "@jupyter-widgets/base",
      "_view_module_version": "1.2.0",
      "_view_name": "LayoutView",
      "align_content": null,
      "align_items": null,
      "align_self": null,
      "border": null,
      "bottom": null,
      "display": null,
      "flex": null,
      "flex_flow": null,
      "grid_area": null,
      "grid_auto_columns": null,
      "grid_auto_flow": null,
      "grid_auto_rows": null,
      "grid_column": null,
      "grid_gap": null,
      "grid_row": null,
      "grid_template_areas": null,
      "grid_template_columns": null,
      "grid_template_rows": null,
      "height": null,
      "justify_content": null,
      "justify_items": null,
      "left": null,
      "margin": null,
      "max_height": null,
      "max_width": null,
      "min_height": null,
      "min_width": null,
      "object_fit": null,
      "object_position": null,
      "order": null,
      "overflow": null,
      "overflow_x": null,
      "overflow_y": null,
      "padding": null,
      "right": null,
      "top": null,
      "visibility": null,
      "width": null
     }
    },
    "ad8622cbdd3d4cfa882d9d4cc088d4f6": {
     "model_module": "@jupyter-widgets/controls",
     "model_name": "IntProgressModel",
     "state": {
      "_dom_classes": [],
      "_model_module": "@jupyter-widgets/controls",
      "_model_module_version": "1.5.0",
      "_model_name": "IntProgressModel",
      "_view_count": null,
      "_view_module": "@jupyter-widgets/controls",
      "_view_module_version": "1.5.0",
      "_view_name": "ProgressView",
      "bar_style": "success",
      "description": "",
      "description_tooltip": null,
      "layout": "IPY_MODEL_a475a2a6ed7940249641a775165a26fc",
      "max": 10,
      "min": 0,
      "orientation": "horizontal",
      "style": "IPY_MODEL_0e63488b21e444f1aa9b8bc8ef053914",
      "value": 10
     }
    },
    "c194aa65bbff4e0291fd55a881b27768": {
     "model_module": "@jupyter-widgets/controls",
     "model_name": "HBoxModel",
     "state": {
      "_dom_classes": [],
      "_model_module": "@jupyter-widgets/controls",
      "_model_module_version": "1.5.0",
      "_model_name": "HBoxModel",
      "_view_count": null,
      "_view_module": "@jupyter-widgets/controls",
      "_view_module_version": "1.5.0",
      "_view_name": "HBoxView",
      "box_style": "",
      "children": [
       "IPY_MODEL_ad8622cbdd3d4cfa882d9d4cc088d4f6",
       "IPY_MODEL_ccd0d59cf14d4b1eb7f5399bdb96facd"
      ],
      "layout": "IPY_MODEL_d736e6017af247e393d7587c10d2f840"
     }
    },
    "ccd0d59cf14d4b1eb7f5399bdb96facd": {
     "model_module": "@jupyter-widgets/controls",
     "model_name": "HTMLModel",
     "state": {
      "_dom_classes": [],
      "_model_module": "@jupyter-widgets/controls",
      "_model_module_version": "1.5.0",
      "_model_name": "HTMLModel",
      "_view_count": null,
      "_view_module": "@jupyter-widgets/controls",
      "_view_module_version": "1.5.0",
      "_view_name": "HTMLView",
      "description": "",
      "description_tooltip": null,
      "layout": "IPY_MODEL_27667d694e324671a02c192b74bae90e",
      "placeholder": "​",
      "style": "IPY_MODEL_71e843dfe8854178b54024bcb94895bf",
      "value": "100% 10/10 [01:24&lt;00:00,  8.23s/it]"
     }
    },
    "d736e6017af247e393d7587c10d2f840": {
     "model_module": "@jupyter-widgets/base",
     "model_name": "LayoutModel",
     "state": {
      "_model_module": "@jupyter-widgets/base",
      "_model_module_version": "1.2.0",
      "_model_name": "LayoutModel",
      "_view_count": null,
      "_view_module": "@jupyter-widgets/base",
      "_view_module_version": "1.2.0",
      "_view_name": "LayoutView",
      "align_content": null,
      "align_items": null,
      "align_self": null,
      "border": null,
      "bottom": null,
      "display": null,
      "flex": null,
      "flex_flow": null,
      "grid_area": null,
      "grid_auto_columns": null,
      "grid_auto_flow": null,
      "grid_auto_rows": null,
      "grid_column": null,
      "grid_gap": null,
      "grid_row": null,
      "grid_template_areas": null,
      "grid_template_columns": null,
      "grid_template_rows": null,
      "height": null,
      "justify_content": null,
      "justify_items": null,
      "left": null,
      "margin": null,
      "max_height": null,
      "max_width": null,
      "min_height": null,
      "min_width": null,
      "object_fit": null,
      "object_position": null,
      "order": null,
      "overflow": null,
      "overflow_x": null,
      "overflow_y": null,
      "padding": null,
      "right": null,
      "top": null,
      "visibility": null,
      "width": null
     }
    },
    "e74cfabf7f754cdfacab0be94771caaf": {
     "model_module": "@jupyter-widgets/controls",
     "model_name": "ProgressStyleModel",
     "state": {
      "_model_module": "@jupyter-widgets/controls",
      "_model_module_version": "1.5.0",
      "_model_name": "ProgressStyleModel",
      "_view_count": null,
      "_view_module": "@jupyter-widgets/base",
      "_view_module_version": "1.2.0",
      "_view_name": "StyleView",
      "bar_color": null,
      "description_width": ""
     }
    },
    "e9574c30b4354234a1e9cae8ff31d720": {
     "model_module": "@jupyter-widgets/controls",
     "model_name": "HTMLModel",
     "state": {
      "_dom_classes": [],
      "_model_module": "@jupyter-widgets/controls",
      "_model_module_version": "1.5.0",
      "_model_name": "HTMLModel",
      "_view_count": null,
      "_view_module": "@jupyter-widgets/controls",
      "_view_module_version": "1.5.0",
      "_view_name": "HTMLView",
      "description": "",
      "description_tooltip": null,
      "layout": "IPY_MODEL_13756b58fbb746cc9f68973f680ae2b9",
      "placeholder": "​",
      "style": "IPY_MODEL_f2e49b1797884623a13cd4051c5cbd94",
      "value": "  0% 0/10 [00:00&lt;?, ?it/s]"
     }
    },
    "f2e49b1797884623a13cd4051c5cbd94": {
     "model_module": "@jupyter-widgets/controls",
     "model_name": "DescriptionStyleModel",
     "state": {
      "_model_module": "@jupyter-widgets/controls",
      "_model_module_version": "1.5.0",
      "_model_name": "DescriptionStyleModel",
      "_view_count": null,
      "_view_module": "@jupyter-widgets/base",
      "_view_module_version": "1.2.0",
      "_view_name": "StyleView",
      "description_width": ""
     }
    }
   }
  }
 },
 "nbformat": 4,
 "nbformat_minor": 4
}
